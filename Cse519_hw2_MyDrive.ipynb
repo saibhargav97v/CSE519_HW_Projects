{
 "cells": [
  {
   "cell_type": "markdown",
   "metadata": {
    "id": "Alr9A33BXHvP"
   },
   "source": [
    "## <u>**Use the \"Text\" blocks to provide explanations wherever you find them necessary. Highlight your answers inside these text fields to ensure that we don't miss it while grading your HW.**</u> "
   ]
  },
  {
   "cell_type": "markdown",
   "metadata": {
    "id": "vIOjh3AvYWxH"
   },
   "source": [
    "## **Setup**\n",
    "\n",
    "- Code to download the data directly from the colab notebook.\n",
    "- If you find it easier to download the data from the kaggle website (and uploading it to your drive), you can skip this section."
   ]
  },
  {
   "cell_type": "code",
   "execution_count": 2,
   "metadata": {
    "colab": {
     "base_uri": "https://localhost:8080/"
    },
    "id": "k9k6w55RDb5U",
    "outputId": "085edd79-5663-4a9a-bbfa-e63f076a70d7"
   },
   "outputs": [
    {
     "ename": "ModuleNotFoundError",
     "evalue": "No module named 'google'",
     "output_type": "error",
     "traceback": [
      "\u001b[0;31m---------------------------------------------------------------------------\u001b[0m",
      "\u001b[0;31mModuleNotFoundError\u001b[0m                       Traceback (most recent call last)",
      "\u001b[0;32m/var/folders/jy/btxlmr3103gdvbs2qv92pdtc0000gn/T/ipykernel_28180/1408506528.py\u001b[0m in \u001b[0;36m<module>\u001b[0;34m\u001b[0m\n\u001b[0;32m----> 1\u001b[0;31m \u001b[0;32mfrom\u001b[0m \u001b[0mgoogle\u001b[0m\u001b[0;34m.\u001b[0m\u001b[0mcolab\u001b[0m \u001b[0;32mimport\u001b[0m \u001b[0mdrive\u001b[0m\u001b[0;34m\u001b[0m\u001b[0;34m\u001b[0m\u001b[0m\n\u001b[0m\u001b[1;32m      2\u001b[0m \u001b[0mdrive\u001b[0m\u001b[0;34m.\u001b[0m\u001b[0mmount\u001b[0m\u001b[0;34m(\u001b[0m\u001b[0;34m'/content/drive'\u001b[0m\u001b[0;34m)\u001b[0m\u001b[0;34m\u001b[0m\u001b[0;34m\u001b[0m\u001b[0m\n",
      "\u001b[0;31mModuleNotFoundError\u001b[0m: No module named 'google'"
     ]
    }
   ],
   "source": [
    "from google.colab import drive\n",
    "drive.mount('/content/drive')"
   ]
  },
  {
   "cell_type": "code",
   "execution_count": null,
   "metadata": {
    "id": "lE-oUHZNYlME"
   },
   "outputs": [],
   "source": [
    "# First mount your drive before running these cells. \n",
    "# Create a folder for the this HW and change to that dir\n",
    "# %cd drive/MyDrive/CSE\\ 519\\ fall\\ 2021/HW2"
   ]
  },
  {
   "cell_type": "code",
   "execution_count": null,
   "metadata": {
    "id": "hwwNGPowVz1I"
   },
   "outputs": [],
   "source": [
    "!pip install -q kaggle"
   ]
  },
  {
   "cell_type": "code",
   "execution_count": null,
   "metadata": {
    "colab": {
     "base_uri": "https://localhost:8080/",
     "height": 72,
     "resources": {
      "http://localhost:8080/nbextensions/google.colab/files.js": {
       "data": "Ly8gQ29weXJpZ2h0IDIwMTcgR29vZ2xlIExMQwovLwovLyBMaWNlbnNlZCB1bmRlciB0aGUgQXBhY2hlIExpY2Vuc2UsIFZlcnNpb24gMi4wICh0aGUgIkxpY2Vuc2UiKTsKLy8geW91IG1heSBub3QgdXNlIHRoaXMgZmlsZSBleGNlcHQgaW4gY29tcGxpYW5jZSB3aXRoIHRoZSBMaWNlbnNlLgovLyBZb3UgbWF5IG9idGFpbiBhIGNvcHkgb2YgdGhlIExpY2Vuc2UgYXQKLy8KLy8gICAgICBodHRwOi8vd3d3LmFwYWNoZS5vcmcvbGljZW5zZXMvTElDRU5TRS0yLjAKLy8KLy8gVW5sZXNzIHJlcXVpcmVkIGJ5IGFwcGxpY2FibGUgbGF3IG9yIGFncmVlZCB0byBpbiB3cml0aW5nLCBzb2Z0d2FyZQovLyBkaXN0cmlidXRlZCB1bmRlciB0aGUgTGljZW5zZSBpcyBkaXN0cmlidXRlZCBvbiBhbiAiQVMgSVMiIEJBU0lTLAovLyBXSVRIT1VUIFdBUlJBTlRJRVMgT1IgQ09ORElUSU9OUyBPRiBBTlkgS0lORCwgZWl0aGVyIGV4cHJlc3Mgb3IgaW1wbGllZC4KLy8gU2VlIHRoZSBMaWNlbnNlIGZvciB0aGUgc3BlY2lmaWMgbGFuZ3VhZ2UgZ292ZXJuaW5nIHBlcm1pc3Npb25zIGFuZAovLyBsaW1pdGF0aW9ucyB1bmRlciB0aGUgTGljZW5zZS4KCi8qKgogKiBAZmlsZW92ZXJ2aWV3IEhlbHBlcnMgZm9yIGdvb2dsZS5jb2xhYiBQeXRob24gbW9kdWxlLgogKi8KKGZ1bmN0aW9uKHNjb3BlKSB7CmZ1bmN0aW9uIHNwYW4odGV4dCwgc3R5bGVBdHRyaWJ1dGVzID0ge30pIHsKICBjb25zdCBlbGVtZW50ID0gZG9jdW1lbnQuY3JlYXRlRWxlbWVudCgnc3BhbicpOwogIGVsZW1lbnQudGV4dENvbnRlbnQgPSB0ZXh0OwogIGZvciAoY29uc3Qga2V5IG9mIE9iamVjdC5rZXlzKHN0eWxlQXR0cmlidXRlcykpIHsKICAgIGVsZW1lbnQuc3R5bGVba2V5XSA9IHN0eWxlQXR0cmlidXRlc1trZXldOwogIH0KICByZXR1cm4gZWxlbWVudDsKfQoKLy8gTWF4IG51bWJlciBvZiBieXRlcyB3aGljaCB3aWxsIGJlIHVwbG9hZGVkIGF0IGEgdGltZS4KY29uc3QgTUFYX1BBWUxPQURfU0laRSA9IDEwMCAqIDEwMjQ7CgpmdW5jdGlvbiBfdXBsb2FkRmlsZXMoaW5wdXRJZCwgb3V0cHV0SWQpIHsKICBjb25zdCBzdGVwcyA9IHVwbG9hZEZpbGVzU3RlcChpbnB1dElkLCBvdXRwdXRJZCk7CiAgY29uc3Qgb3V0cHV0RWxlbWVudCA9IGRvY3VtZW50LmdldEVsZW1lbnRCeUlkKG91dHB1dElkKTsKICAvLyBDYWNoZSBzdGVwcyBvbiB0aGUgb3V0cHV0RWxlbWVudCB0byBtYWtlIGl0IGF2YWlsYWJsZSBmb3IgdGhlIG5leHQgY2FsbAogIC8vIHRvIHVwbG9hZEZpbGVzQ29udGludWUgZnJvbSBQeXRob24uCiAgb3V0cHV0RWxlbWVudC5zdGVwcyA9IHN0ZXBzOwoKICByZXR1cm4gX3VwbG9hZEZpbGVzQ29udGludWUob3V0cHV0SWQpOwp9CgovLyBUaGlzIGlzIHJvdWdobHkgYW4gYXN5bmMgZ2VuZXJhdG9yIChub3Qgc3VwcG9ydGVkIGluIHRoZSBicm93c2VyIHlldCksCi8vIHdoZXJlIHRoZXJlIGFyZSBtdWx0aXBsZSBhc3luY2hyb25vdXMgc3RlcHMgYW5kIHRoZSBQeXRob24gc2lkZSBpcyBnb2luZwovLyB0byBwb2xsIGZvciBjb21wbGV0aW9uIG9mIGVhY2ggc3RlcC4KLy8gVGhpcyB1c2VzIGEgUHJvbWlzZSB0byBibG9jayB0aGUgcHl0aG9uIHNpZGUgb24gY29tcGxldGlvbiBvZiBlYWNoIHN0ZXAsCi8vIHRoZW4gcGFzc2VzIHRoZSByZXN1bHQgb2YgdGhlIHByZXZpb3VzIHN0ZXAgYXMgdGhlIGlucHV0IHRvIHRoZSBuZXh0IHN0ZXAuCmZ1bmN0aW9uIF91cGxvYWRGaWxlc0NvbnRpbnVlKG91dHB1dElkKSB7CiAgY29uc3Qgb3V0cHV0RWxlbWVudCA9IGRvY3VtZW50LmdldEVsZW1lbnRCeUlkKG91dHB1dElkKTsKICBjb25zdCBzdGVwcyA9IG91dHB1dEVsZW1lbnQuc3RlcHM7CgogIGNvbnN0IG5leHQgPSBzdGVwcy5uZXh0KG91dHB1dEVsZW1lbnQubGFzdFByb21pc2VWYWx1ZSk7CiAgcmV0dXJuIFByb21pc2UucmVzb2x2ZShuZXh0LnZhbHVlLnByb21pc2UpLnRoZW4oKHZhbHVlKSA9PiB7CiAgICAvLyBDYWNoZSB0aGUgbGFzdCBwcm9taXNlIHZhbHVlIHRvIG1ha2UgaXQgYXZhaWxhYmxlIHRvIHRoZSBuZXh0CiAgICAvLyBzdGVwIG9mIHRoZSBnZW5lcmF0b3IuCiAgICBvdXRwdXRFbGVtZW50Lmxhc3RQcm9taXNlVmFsdWUgPSB2YWx1ZTsKICAgIHJldHVybiBuZXh0LnZhbHVlLnJlc3BvbnNlOwogIH0pOwp9CgovKioKICogR2VuZXJhdG9yIGZ1bmN0aW9uIHdoaWNoIGlzIGNhbGxlZCBiZXR3ZWVuIGVhY2ggYXN5bmMgc3RlcCBvZiB0aGUgdXBsb2FkCiAqIHByb2Nlc3MuCiAqIEBwYXJhbSB7c3RyaW5nfSBpbnB1dElkIEVsZW1lbnQgSUQgb2YgdGhlIGlucHV0IGZpbGUgcGlja2VyIGVsZW1lbnQuCiAqIEBwYXJhbSB7c3RyaW5nfSBvdXRwdXRJZCBFbGVtZW50IElEIG9mIHRoZSBvdXRwdXQgZGlzcGxheS4KICogQHJldHVybiB7IUl0ZXJhYmxlPCFPYmplY3Q+fSBJdGVyYWJsZSBvZiBuZXh0IHN0ZXBzLgogKi8KZnVuY3Rpb24qIHVwbG9hZEZpbGVzU3RlcChpbnB1dElkLCBvdXRwdXRJZCkgewogIGNvbnN0IGlucHV0RWxlbWVudCA9IGRvY3VtZW50LmdldEVsZW1lbnRCeUlkKGlucHV0SWQpOwogIGlucHV0RWxlbWVudC5kaXNhYmxlZCA9IGZhbHNlOwoKICBjb25zdCBvdXRwdXRFbGVtZW50ID0gZG9jdW1lbnQuZ2V0RWxlbWVudEJ5SWQob3V0cHV0SWQpOwogIG91dHB1dEVsZW1lbnQuaW5uZXJIVE1MID0gJyc7CgogIGNvbnN0IHBpY2tlZFByb21pc2UgPSBuZXcgUHJvbWlzZSgocmVzb2x2ZSkgPT4gewogICAgaW5wdXRFbGVtZW50LmFkZEV2ZW50TGlzdGVuZXIoJ2NoYW5nZScsIChlKSA9PiB7CiAgICAgIHJlc29sdmUoZS50YXJnZXQuZmlsZXMpOwogICAgfSk7CiAgfSk7CgogIGNvbnN0IGNhbmNlbCA9IGRvY3VtZW50LmNyZWF0ZUVsZW1lbnQoJ2J1dHRvbicpOwogIGlucHV0RWxlbWVudC5wYXJlbnRFbGVtZW50LmFwcGVuZENoaWxkKGNhbmNlbCk7CiAgY2FuY2VsLnRleHRDb250ZW50ID0gJ0NhbmNlbCB1cGxvYWQnOwogIGNvbnN0IGNhbmNlbFByb21pc2UgPSBuZXcgUHJvbWlzZSgocmVzb2x2ZSkgPT4gewogICAgY2FuY2VsLm9uY2xpY2sgPSAoKSA9PiB7CiAgICAgIHJlc29sdmUobnVsbCk7CiAgICB9OwogIH0pOwoKICAvLyBXYWl0IGZvciB0aGUgdXNlciB0byBwaWNrIHRoZSBmaWxlcy4KICBjb25zdCBmaWxlcyA9IHlpZWxkIHsKICAgIHByb21pc2U6IFByb21pc2UucmFjZShbcGlja2VkUHJvbWlzZSwgY2FuY2VsUHJvbWlzZV0pLAogICAgcmVzcG9uc2U6IHsKICAgICAgYWN0aW9uOiAnc3RhcnRpbmcnLAogICAgfQogIH07CgogIGNhbmNlbC5yZW1vdmUoKTsKCiAgLy8gRGlzYWJsZSB0aGUgaW5wdXQgZWxlbWVudCBzaW5jZSBmdXJ0aGVyIHBpY2tzIGFyZSBub3QgYWxsb3dlZC4KICBpbnB1dEVsZW1lbnQuZGlzYWJsZWQgPSB0cnVlOwoKICBpZiAoIWZpbGVzKSB7CiAgICByZXR1cm4gewogICAgICByZXNwb25zZTogewogICAgICAgIGFjdGlvbjogJ2NvbXBsZXRlJywKICAgICAgfQogICAgfTsKICB9CgogIGZvciAoY29uc3QgZmlsZSBvZiBmaWxlcykgewogICAgY29uc3QgbGkgPSBkb2N1bWVudC5jcmVhdGVFbGVtZW50KCdsaScpOwogICAgbGkuYXBwZW5kKHNwYW4oZmlsZS5uYW1lLCB7Zm9udFdlaWdodDogJ2JvbGQnfSkpOwogICAgbGkuYXBwZW5kKHNwYW4oCiAgICAgICAgYCgke2ZpbGUudHlwZSB8fCAnbi9hJ30pIC0gJHtmaWxlLnNpemV9IGJ5dGVzLCBgICsKICAgICAgICBgbGFzdCBtb2RpZmllZDogJHsKICAgICAgICAgICAgZmlsZS5sYXN0TW9kaWZpZWREYXRlID8gZmlsZS5sYXN0TW9kaWZpZWREYXRlLnRvTG9jYWxlRGF0ZVN0cmluZygpIDoKICAgICAgICAgICAgICAgICAgICAgICAgICAgICAgICAgICAgJ24vYSd9IC0gYCkpOwogICAgY29uc3QgcGVyY2VudCA9IHNwYW4oJzAlIGRvbmUnKTsKICAgIGxpLmFwcGVuZENoaWxkKHBlcmNlbnQpOwoKICAgIG91dHB1dEVsZW1lbnQuYXBwZW5kQ2hpbGQobGkpOwoKICAgIGNvbnN0IGZpbGVEYXRhUHJvbWlzZSA9IG5ldyBQcm9taXNlKChyZXNvbHZlKSA9PiB7CiAgICAgIGNvbnN0IHJlYWRlciA9IG5ldyBGaWxlUmVhZGVyKCk7CiAgICAgIHJlYWRlci5vbmxvYWQgPSAoZSkgPT4gewogICAgICAgIHJlc29sdmUoZS50YXJnZXQucmVzdWx0KTsKICAgICAgfTsKICAgICAgcmVhZGVyLnJlYWRBc0FycmF5QnVmZmVyKGZpbGUpOwogICAgfSk7CiAgICAvLyBXYWl0IGZvciB0aGUgZGF0YSB0byBiZSByZWFkeS4KICAgIGxldCBmaWxlRGF0YSA9IHlpZWxkIHsKICAgICAgcHJvbWlzZTogZmlsZURhdGFQcm9taXNlLAogICAgICByZXNwb25zZTogewogICAgICAgIGFjdGlvbjogJ2NvbnRpbnVlJywKICAgICAgfQogICAgfTsKCiAgICAvLyBVc2UgYSBjaHVua2VkIHNlbmRpbmcgdG8gYXZvaWQgbWVzc2FnZSBzaXplIGxpbWl0cy4gU2VlIGIvNjIxMTU2NjAuCiAgICBsZXQgcG9zaXRpb24gPSAwOwogICAgZG8gewogICAgICBjb25zdCBsZW5ndGggPSBNYXRoLm1pbihmaWxlRGF0YS5ieXRlTGVuZ3RoIC0gcG9zaXRpb24sIE1BWF9QQVlMT0FEX1NJWkUpOwogICAgICBjb25zdCBjaHVuayA9IG5ldyBVaW50OEFycmF5KGZpbGVEYXRhLCBwb3NpdGlvbiwgbGVuZ3RoKTsKICAgICAgcG9zaXRpb24gKz0gbGVuZ3RoOwoKICAgICAgY29uc3QgYmFzZTY0ID0gYnRvYShTdHJpbmcuZnJvbUNoYXJDb2RlLmFwcGx5KG51bGwsIGNodW5rKSk7CiAgICAgIHlpZWxkIHsKICAgICAgICByZXNwb25zZTogewogICAgICAgICAgYWN0aW9uOiAnYXBwZW5kJywKICAgICAgICAgIGZpbGU6IGZpbGUubmFtZSwKICAgICAgICAgIGRhdGE6IGJhc2U2NCwKICAgICAgICB9LAogICAgICB9OwoKICAgICAgbGV0IHBlcmNlbnREb25lID0gZmlsZURhdGEuYnl0ZUxlbmd0aCA9PT0gMCA/CiAgICAgICAgICAxMDAgOgogICAgICAgICAgTWF0aC5yb3VuZCgocG9zaXRpb24gLyBmaWxlRGF0YS5ieXRlTGVuZ3RoKSAqIDEwMCk7CiAgICAgIHBlcmNlbnQudGV4dENvbnRlbnQgPSBgJHtwZXJjZW50RG9uZX0lIGRvbmVgOwoKICAgIH0gd2hpbGUgKHBvc2l0aW9uIDwgZmlsZURhdGEuYnl0ZUxlbmd0aCk7CiAgfQoKICAvLyBBbGwgZG9uZS4KICB5aWVsZCB7CiAgICByZXNwb25zZTogewogICAgICBhY3Rpb246ICdjb21wbGV0ZScsCiAgICB9CiAgfTsKfQoKc2NvcGUuZ29vZ2xlID0gc2NvcGUuZ29vZ2xlIHx8IHt9OwpzY29wZS5nb29nbGUuY29sYWIgPSBzY29wZS5nb29nbGUuY29sYWIgfHwge307CnNjb3BlLmdvb2dsZS5jb2xhYi5fZmlsZXMgPSB7CiAgX3VwbG9hZEZpbGVzLAogIF91cGxvYWRGaWxlc0NvbnRpbnVlLAp9Owp9KShzZWxmKTsK",
       "headers": [
        [
         "content-type",
         "application/javascript"
        ]
       ],
       "ok": true,
       "status": 200,
       "status_text": ""
      }
     }
    },
    "id": "ArePZv5vV7Ui",
    "outputId": "1b546c9c-95d5-4dca-b9f8-f71e74b1575a"
   },
   "outputs": [
    {
     "data": {
      "text/html": [
       "\n",
       "     <input type=\"file\" id=\"files-28dff1c8-ff31-42b6-a1ce-813ad0f58dd9\" name=\"files[]\" multiple disabled\n",
       "        style=\"border:none\" />\n",
       "     <output id=\"result-28dff1c8-ff31-42b6-a1ce-813ad0f58dd9\">\n",
       "      Upload widget is only available when the cell has been executed in the\n",
       "      current browser session. Please rerun this cell to enable.\n",
       "      </output>\n",
       "      <script src=\"/nbextensions/google.colab/files.js\"></script> "
      ],
      "text/plain": [
       "<IPython.core.display.HTML object>"
      ]
     },
     "metadata": {},
     "output_type": "display_data"
    },
    {
     "name": "stdout",
     "output_type": "stream",
     "text": [
      "Saving kaggle.json to kaggle (1).json\n"
     ]
    },
    {
     "data": {
      "text/plain": [
       "{'kaggle.json': b'{\"username\":\"saibvara\",\"key\":\"6c750bc7b1997c7cb9da7ed2c5b76f9c\"}'}"
      ]
     },
     "execution_count": 11,
     "metadata": {},
     "output_type": "execute_result"
    }
   ],
   "source": [
    "from google.colab import files\n",
    "# Create a new API token under \"Account\" in the kaggle webpage and download the json file\n",
    "# Upload the file by clicking on the browse \n",
    "files.upload()"
   ]
  },
  {
   "cell_type": "code",
   "execution_count": null,
   "metadata": {
    "id": "Jiv_HAou9kUR"
   },
   "outputs": [],
   "source": [
    "#!mkdir /root/.kaggle\n",
    "#!ls -a\n",
    "#!mv .kaggle/kaggle.json /root/.kaggle\n",
    "\n",
    "# !rm -r .kaggle/\n",
    "# !ls -a\n",
    "# !chmod 600 /root/.kaggle/kaggle.json\n",
    "\n",
    "# !unzip sample_submission.csv.zip\n",
    "# !unzip test.csv.zip\n",
    "# !unzip train.csv.zip\n",
    "# !rm *.zip\n",
    "# !ls -a\n",
    "# !ls -lrt sample_data"
   ]
  },
  {
   "cell_type": "code",
   "execution_count": null,
   "metadata": {
    "id": "IwuGYExMEUTU"
   },
   "outputs": [],
   "source": [
    "#Removing the files that I copied to colab home directory.\n",
    "# !ls -a\n",
    "# !rm sample_submission.csv test.csv train.csv\n",
    "!ls -a"
   ]
  },
  {
   "cell_type": "markdown",
   "metadata": {
    "id": "jGPHwvVmOHjw"
   },
   "source": []
  },
  {
   "cell_type": "markdown",
   "metadata": {
    "id": "8GtADEq4Zw1g"
   },
   "source": [
    "## **Section 1: Library and Data Imports (Q1)**\n",
    "\n",
    "- Import your libraries and read the data into a dataframe. Print the head of the dataframe. "
   ]
  },
  {
   "cell_type": "code",
   "execution_count": 3,
   "metadata": {
    "id": "11IcW7dNQwVA"
   },
   "outputs": [],
   "source": [
    "use_cols = [\"MachineIdentifier\", \"SmartScreen\", \"AVProductsInstalled\", \"AppVersion\", \"CountryIdentifier\", \"Census_OSInstallTypeName\", \"Wdft_IsGamer\",\n",
    "           \"EngineVersion\", \"AVProductStatesIdentifier\", \"Census_OSVersion\", \"Census_TotalPhysicalRAM\", \"Census_ActivationChannel\",\n",
    "           \"RtpStateBitfield\", \"Census_ProcessorModelIdentifier\", \"Census_PrimaryDiskTotalCapacity\", \n",
    "            \"Census_InternalPrimaryDiagonalDisplaySizeInInches\", \"Wdft_RegionIdentifier\", \"LocaleEnglishNameIdentifier\",\n",
    "           \"AvSigVersion\", \"IeVerIdentifier\", \"IsProtected\", \"Census_InternalPrimaryDisplayResolutionVertical\", \"Census_PrimaryDiskTypeName\",\n",
    "            \"Census_OSWUAutoUpdateOptionsName\", \"Census_OSEdition\", \"Census_GenuineStateName\", \"Census_ProcessorCoreCount\", \n",
    "           \"Census_OEMNameIdentifier\", \"Census_MDC2FormFactor\", \"Census_FirmwareManufacturerIdentifier\", \"OsBuildLab\", \"Census_OSBuildRevision\", \n",
    "            \"Census_OSBuildNumber\", \"Census_IsPenCapable\", \"Census_IsTouchEnabled\", \"Census_IsAlwaysOnAlwaysConnectedCapable\", \"Census_IsSecureBootEnabled\", \n",
    "            \"Census_SystemVolumeTotalCapacity\", \"Census_PrimaryDiskTotalCapacity\", \"HasDetections\"\n",
    "           ]\n",
    "dtypes = {\n",
    "        'MachineIdentifier':                                    'category',\n",
    "        'ProductName':                                          'category',\n",
    "        'EngineVersion':                                        'category',\n",
    "        'AppVersion':                                           'category',\n",
    "        'AvSigVersion':                                         'category',\n",
    "        'IsBeta':                                               'int8',\n",
    "        'RtpStateBitfield':                                     'float16',\n",
    "        'IsSxsPassiveMode':                                     'int8',\n",
    "        'DefaultBrowsersIdentifier':                            'float64',\n",
    "        'AVProductStatesIdentifier':                            'float64',\n",
    "        'AVProductsInstalled':                                  'float64',\n",
    "        'AVProductsEnabled':                                    'float16',\n",
    "        'HasTpm':                                               'int8',\n",
    "        'CountryIdentifier':                                    'int16',\n",
    "        'CityIdentifier':                                       'float32',\n",
    "        'OrganizationIdentifier':                               'float64',\n",
    "        'GeoNameIdentifier':                                    'float16',\n",
    "        'LocaleEnglishNameIdentifier':                          'int8',\n",
    "        'Platform':                                             'category',\n",
    "        'Processor':                                            'category',\n",
    "        'OsVer':                                                'category',\n",
    "        'OsBuild':                                              'int16',\n",
    "        'OsSuite':                                              'int16',\n",
    "        'OsPlatformSubRelease':                                 'category',\n",
    "        'OsBuildLab':                                           'category',\n",
    "        'SkuEdition':                                           'category',\n",
    "        'IsProtected':                                          'float16',\n",
    "        'AutoSampleOptIn':                                      'int8',\n",
    "        'PuaMode':                                              'category',\n",
    "        'SMode':                                                'float16',\n",
    "        'IeVerIdentifier':                                      'float64',\n",
    "        'SmartScreen':                                          'category',\n",
    "        'Firewall':                                             'float16',\n",
    "        'UacLuaenable':                                         'float32',\n",
    "        'Census_MDC2FormFactor':                                'category',\n",
    "        'Census_DeviceFamily':                                  'category',\n",
    "        'Census_OEMNameIdentifier':                             'float64',\n",
    "        'Census_OEMModelIdentifier':                            'float64',\n",
    "        'Census_ProcessorCoreCount':                            'float64',\n",
    "        'Census_ProcessorManufacturerIdentifier':               'float64',\n",
    "        'Census_ProcessorModelIdentifier':                      'float64',\n",
    "        'Census_ProcessorClass':                                'category',\n",
    "        'Census_PrimaryDiskTotalCapacity':                      'float64',\n",
    "        'Census_PrimaryDiskTypeName':                           'category',\n",
    "        'Census_SystemVolumeTotalCapacity':                     'float64',\n",
    "        'Census_HasOpticalDiskDrive':                           'int8',\n",
    "        'Census_TotalPhysicalRAM':                              'float64',\n",
    "        'Census_ChassisTypeName':                               'category',\n",
    "        'Census_InternalPrimaryDiagonalDisplaySizeInInches':    'float64',\n",
    "        'Census_InternalPrimaryDisplayResolutionHorizontal':    'float16',\n",
    "        'Census_InternalPrimaryDisplayResolutionVertical':      'float16',\n",
    "        'Census_PowerPlatformRoleName':                         'category',\n",
    "        'Census_InternalBatteryType':                           'category',\n",
    "        'Census_InternalBatteryNumberOfCharges':                'float32',\n",
    "        'Census_OSVersion':                                     'category',\n",
    "        'Census_OSArchitecture':                                'category',\n",
    "        'Census_OSBranch':                                      'category',\n",
    "        'Census_OSBuildNumber':                                 'int16',\n",
    "        'Census_OSBuildRevision':                               'int32',\n",
    "        'Census_OSEdition':                                     'category',\n",
    "        'Census_OSSkuName':                                     'category',\n",
    "        'Census_OSInstallTypeName':                             'category',\n",
    "        'Census_OSInstallLanguageIdentifier':                   'float16',\n",
    "        'Census_OSUILocaleIdentifier':                          'int16',\n",
    "        'Census_OSWUAutoUpdateOptionsName':                     'category',\n",
    "        'Census_IsPortableOperatingSystem':                     'int8',\n",
    "        'Census_GenuineStateName':                              'category',\n",
    "        'Census_ActivationChannel':                             'category',\n",
    "        'Census_IsFlightingInternal':                           'float16',\n",
    "        'Census_IsFlightsDisabled':                             'float16',\n",
    "        'Census_FlightRing':                                    'category',\n",
    "        'Census_ThresholdOptIn':                                'float16',\n",
    "        'Census_FirmwareManufacturerIdentifier':                'float64',\n",
    "        'Census_FirmwareVersionIdentifier':                     'float64',\n",
    "        'Census_IsSecureBootEnabled':                           'int8',\n",
    "        'Census_IsWIMBootEnabled':                              'float16',\n",
    "        'Census_IsVirtualDevice':                               'float16',\n",
    "        'Census_IsTouchEnabled':                                'int8',\n",
    "        'Census_IsPenCapable':                                  'int8',\n",
    "        'Census_IsAlwaysOnAlwaysConnectedCapable':              'float16',\n",
    "        'Wdft_IsGamer':                                         'float16',\n",
    "        'Wdft_RegionIdentifier':                                'float64'        \n",
    "        }"
   ]
  },
  {
   "cell_type": "code",
   "execution_count": 4,
   "metadata": {
    "colab": {
     "base_uri": "https://localhost:8080/"
    },
    "id": "wAFiMMJVVLGA",
    "outputId": "9a0d6f7f-813f-452f-c5f3-80c9a4e69394"
   },
   "outputs": [
    {
     "data": {
      "text/plain": [
       "(40, 82)"
      ]
     },
     "execution_count": 4,
     "metadata": {},
     "output_type": "execute_result"
    }
   ],
   "source": [
    "len(use_cols),len(dtypes)"
   ]
  },
  {
   "cell_type": "code",
   "execution_count": 6,
   "metadata": {
    "id": "n2FPOcASE96X"
   },
   "outputs": [],
   "source": [
    "import pandas as pd\n",
    "import os"
   ]
  },
  {
   "cell_type": "code",
   "execution_count": 7,
   "metadata": {
    "id": "gcNHCuIhMxU0"
   },
   "outputs": [],
   "source": [
    "fileName ='/Users/sbvaranasi/Documents/Fall21/DataScienceFundamentals/microsoft-malware-prediction/train.csv'\n",
    "df=pd.read_csv(fileName, usecols=use_cols, dtype=dtypes)"
   ]
  },
  {
   "cell_type": "code",
   "execution_count": 8,
   "metadata": {
    "colab": {
     "base_uri": "https://localhost:8080/",
     "height": 309
    },
    "id": "lDjgSJrMSyJ-",
    "outputId": "0869a55c-1d5f-445f-f73a-bd32db6debe2"
   },
   "outputs": [
    {
     "data": {
      "text/html": [
       "<div>\n",
       "<style scoped>\n",
       "    .dataframe tbody tr th:only-of-type {\n",
       "        vertical-align: middle;\n",
       "    }\n",
       "\n",
       "    .dataframe tbody tr th {\n",
       "        vertical-align: top;\n",
       "    }\n",
       "\n",
       "    .dataframe thead th {\n",
       "        text-align: right;\n",
       "    }\n",
       "</style>\n",
       "<table border=\"1\" class=\"dataframe\">\n",
       "  <thead>\n",
       "    <tr style=\"text-align: right;\">\n",
       "      <th></th>\n",
       "      <th>MachineIdentifier</th>\n",
       "      <th>EngineVersion</th>\n",
       "      <th>AppVersion</th>\n",
       "      <th>AvSigVersion</th>\n",
       "      <th>RtpStateBitfield</th>\n",
       "      <th>AVProductStatesIdentifier</th>\n",
       "      <th>AVProductsInstalled</th>\n",
       "      <th>CountryIdentifier</th>\n",
       "      <th>LocaleEnglishNameIdentifier</th>\n",
       "      <th>OsBuildLab</th>\n",
       "      <th>...</th>\n",
       "      <th>Census_GenuineStateName</th>\n",
       "      <th>Census_ActivationChannel</th>\n",
       "      <th>Census_FirmwareManufacturerIdentifier</th>\n",
       "      <th>Census_IsSecureBootEnabled</th>\n",
       "      <th>Census_IsTouchEnabled</th>\n",
       "      <th>Census_IsPenCapable</th>\n",
       "      <th>Census_IsAlwaysOnAlwaysConnectedCapable</th>\n",
       "      <th>Wdft_IsGamer</th>\n",
       "      <th>Wdft_RegionIdentifier</th>\n",
       "      <th>HasDetections</th>\n",
       "    </tr>\n",
       "  </thead>\n",
       "  <tbody>\n",
       "    <tr>\n",
       "      <th>0</th>\n",
       "      <td>0000028988387b115f69f31a3bf04f09</td>\n",
       "      <td>1.1.15100.1</td>\n",
       "      <td>4.18.1807.18075</td>\n",
       "      <td>1.273.1735.0</td>\n",
       "      <td>7.0</td>\n",
       "      <td>53447.0</td>\n",
       "      <td>1.0</td>\n",
       "      <td>29</td>\n",
       "      <td>-85</td>\n",
       "      <td>17134.1.amd64fre.rs4_release.180410-1804</td>\n",
       "      <td>...</td>\n",
       "      <td>IS_GENUINE</td>\n",
       "      <td>Retail</td>\n",
       "      <td>628.0</td>\n",
       "      <td>0</td>\n",
       "      <td>0</td>\n",
       "      <td>0</td>\n",
       "      <td>0.0</td>\n",
       "      <td>0.0</td>\n",
       "      <td>10.0</td>\n",
       "      <td>0</td>\n",
       "    </tr>\n",
       "    <tr>\n",
       "      <th>1</th>\n",
       "      <td>000007535c3f730efa9ea0b7ef1bd645</td>\n",
       "      <td>1.1.14600.4</td>\n",
       "      <td>4.13.17134.1</td>\n",
       "      <td>1.263.48.0</td>\n",
       "      <td>7.0</td>\n",
       "      <td>53447.0</td>\n",
       "      <td>1.0</td>\n",
       "      <td>93</td>\n",
       "      <td>64</td>\n",
       "      <td>17134.1.amd64fre.rs4_release.180410-1804</td>\n",
       "      <td>...</td>\n",
       "      <td>OFFLINE</td>\n",
       "      <td>Retail</td>\n",
       "      <td>628.0</td>\n",
       "      <td>0</td>\n",
       "      <td>0</td>\n",
       "      <td>0</td>\n",
       "      <td>0.0</td>\n",
       "      <td>0.0</td>\n",
       "      <td>8.0</td>\n",
       "      <td>0</td>\n",
       "    </tr>\n",
       "    <tr>\n",
       "      <th>2</th>\n",
       "      <td>000007905a28d863f6d0d597892cd692</td>\n",
       "      <td>1.1.15100.1</td>\n",
       "      <td>4.18.1807.18075</td>\n",
       "      <td>1.273.1341.0</td>\n",
       "      <td>7.0</td>\n",
       "      <td>53447.0</td>\n",
       "      <td>1.0</td>\n",
       "      <td>86</td>\n",
       "      <td>49</td>\n",
       "      <td>17134.1.amd64fre.rs4_release.180410-1804</td>\n",
       "      <td>...</td>\n",
       "      <td>IS_GENUINE</td>\n",
       "      <td>OEM:NONSLP</td>\n",
       "      <td>142.0</td>\n",
       "      <td>0</td>\n",
       "      <td>0</td>\n",
       "      <td>0</td>\n",
       "      <td>0.0</td>\n",
       "      <td>0.0</td>\n",
       "      <td>3.0</td>\n",
       "      <td>0</td>\n",
       "    </tr>\n",
       "    <tr>\n",
       "      <th>3</th>\n",
       "      <td>00000b11598a75ea8ba1beea8459149f</td>\n",
       "      <td>1.1.15100.1</td>\n",
       "      <td>4.18.1807.18075</td>\n",
       "      <td>1.273.1527.0</td>\n",
       "      <td>7.0</td>\n",
       "      <td>53447.0</td>\n",
       "      <td>1.0</td>\n",
       "      <td>88</td>\n",
       "      <td>115</td>\n",
       "      <td>17134.1.amd64fre.rs4_release.180410-1804</td>\n",
       "      <td>...</td>\n",
       "      <td>IS_GENUINE</td>\n",
       "      <td>OEM:NONSLP</td>\n",
       "      <td>355.0</td>\n",
       "      <td>0</td>\n",
       "      <td>0</td>\n",
       "      <td>0</td>\n",
       "      <td>0.0</td>\n",
       "      <td>0.0</td>\n",
       "      <td>3.0</td>\n",
       "      <td>1</td>\n",
       "    </tr>\n",
       "    <tr>\n",
       "      <th>4</th>\n",
       "      <td>000014a5f00daa18e76b81417eeb99fc</td>\n",
       "      <td>1.1.15100.1</td>\n",
       "      <td>4.18.1807.18075</td>\n",
       "      <td>1.273.1379.0</td>\n",
       "      <td>7.0</td>\n",
       "      <td>53447.0</td>\n",
       "      <td>1.0</td>\n",
       "      <td>18</td>\n",
       "      <td>75</td>\n",
       "      <td>17134.1.amd64fre.rs4_release.180410-1804</td>\n",
       "      <td>...</td>\n",
       "      <td>IS_GENUINE</td>\n",
       "      <td>Retail</td>\n",
       "      <td>355.0</td>\n",
       "      <td>0</td>\n",
       "      <td>0</td>\n",
       "      <td>0</td>\n",
       "      <td>0.0</td>\n",
       "      <td>0.0</td>\n",
       "      <td>1.0</td>\n",
       "      <td>1</td>\n",
       "    </tr>\n",
       "  </tbody>\n",
       "</table>\n",
       "<p>5 rows × 39 columns</p>\n",
       "</div>"
      ],
      "text/plain": [
       "                  MachineIdentifier EngineVersion       AppVersion  \\\n",
       "0  0000028988387b115f69f31a3bf04f09   1.1.15100.1  4.18.1807.18075   \n",
       "1  000007535c3f730efa9ea0b7ef1bd645   1.1.14600.4     4.13.17134.1   \n",
       "2  000007905a28d863f6d0d597892cd692   1.1.15100.1  4.18.1807.18075   \n",
       "3  00000b11598a75ea8ba1beea8459149f   1.1.15100.1  4.18.1807.18075   \n",
       "4  000014a5f00daa18e76b81417eeb99fc   1.1.15100.1  4.18.1807.18075   \n",
       "\n",
       "   AvSigVersion  RtpStateBitfield  AVProductStatesIdentifier  \\\n",
       "0  1.273.1735.0               7.0                    53447.0   \n",
       "1    1.263.48.0               7.0                    53447.0   \n",
       "2  1.273.1341.0               7.0                    53447.0   \n",
       "3  1.273.1527.0               7.0                    53447.0   \n",
       "4  1.273.1379.0               7.0                    53447.0   \n",
       "\n",
       "   AVProductsInstalled  CountryIdentifier  LocaleEnglishNameIdentifier  \\\n",
       "0                  1.0                 29                          -85   \n",
       "1                  1.0                 93                           64   \n",
       "2                  1.0                 86                           49   \n",
       "3                  1.0                 88                          115   \n",
       "4                  1.0                 18                           75   \n",
       "\n",
       "                                 OsBuildLab  ...  Census_GenuineStateName  \\\n",
       "0  17134.1.amd64fre.rs4_release.180410-1804  ...               IS_GENUINE   \n",
       "1  17134.1.amd64fre.rs4_release.180410-1804  ...                  OFFLINE   \n",
       "2  17134.1.amd64fre.rs4_release.180410-1804  ...               IS_GENUINE   \n",
       "3  17134.1.amd64fre.rs4_release.180410-1804  ...               IS_GENUINE   \n",
       "4  17134.1.amd64fre.rs4_release.180410-1804  ...               IS_GENUINE   \n",
       "\n",
       "   Census_ActivationChannel Census_FirmwareManufacturerIdentifier  \\\n",
       "0                    Retail                                 628.0   \n",
       "1                    Retail                                 628.0   \n",
       "2                OEM:NONSLP                                 142.0   \n",
       "3                OEM:NONSLP                                 355.0   \n",
       "4                    Retail                                 355.0   \n",
       "\n",
       "  Census_IsSecureBootEnabled  Census_IsTouchEnabled  Census_IsPenCapable  \\\n",
       "0                          0                      0                    0   \n",
       "1                          0                      0                    0   \n",
       "2                          0                      0                    0   \n",
       "3                          0                      0                    0   \n",
       "4                          0                      0                    0   \n",
       "\n",
       "   Census_IsAlwaysOnAlwaysConnectedCapable  Wdft_IsGamer  \\\n",
       "0                                      0.0           0.0   \n",
       "1                                      0.0           0.0   \n",
       "2                                      0.0           0.0   \n",
       "3                                      0.0           0.0   \n",
       "4                                      0.0           0.0   \n",
       "\n",
       "  Wdft_RegionIdentifier  HasDetections  \n",
       "0                  10.0              0  \n",
       "1                   8.0              0  \n",
       "2                   3.0              0  \n",
       "3                   3.0              1  \n",
       "4                   1.0              1  \n",
       "\n",
       "[5 rows x 39 columns]"
      ]
     },
     "execution_count": 8,
     "metadata": {},
     "output_type": "execute_result"
    }
   ],
   "source": [
    "df.head()"
   ]
  },
  {
   "cell_type": "code",
   "execution_count": 9,
   "metadata": {
    "colab": {
     "base_uri": "https://localhost:8080/"
    },
    "id": "H7FIn3dCUi-5",
    "outputId": "123d2d9f-84a4-43d4-d006-e7d2bb98e8d8"
   },
   "outputs": [
    {
     "data": {
      "text/plain": [
       "(8921483, 39)"
      ]
     },
     "execution_count": 9,
     "metadata": {},
     "output_type": "execute_result"
    }
   ],
   "source": [
    "df.shape"
   ]
  },
  {
   "cell_type": "markdown",
   "metadata": {
    "id": "lwCqDB9DUw7t"
   },
   "source": [
    "## **Section 2: Measure of Power (Q2a & 2b)**"
   ]
  },
  {
   "cell_type": "markdown",
   "metadata": {
    "id": "1wEXze7jU6Lx"
   },
   "source": [
    "## **Section 3: OS version vs Malware detected (Q3)**"
   ]
  },
  {
   "cell_type": "code",
   "execution_count": null,
   "metadata": {
    "id": "GB1yz4SwbezQ"
   },
   "outputs": [],
   "source": [
    "hists=df.hist() #Yes it is messy"
   ]
  },
  {
   "cell_type": "code",
   "execution_count": 9,
   "metadata": {
    "colab": {
     "base_uri": "https://localhost:8080/",
     "height": 514
    },
    "id": "OK18SCotWsKu",
    "outputId": "f24ad38c-5f53-40a9-f545-aa7272a11123"
   },
   "outputs": [
    {
     "data": {
      "text/html": [
       "<div>\n",
       "<style scoped>\n",
       "    .dataframe tbody tr th:only-of-type {\n",
       "        vertical-align: middle;\n",
       "    }\n",
       "\n",
       "    .dataframe tbody tr th {\n",
       "        vertical-align: top;\n",
       "    }\n",
       "\n",
       "    .dataframe thead th {\n",
       "        text-align: right;\n",
       "    }\n",
       "</style>\n",
       "<table border=\"1\" class=\"dataframe\">\n",
       "  <thead>\n",
       "    <tr style=\"text-align: right;\">\n",
       "      <th></th>\n",
       "      <th>Census_OSBuildNumber</th>\n",
       "      <th>Census_OSBuildRevision</th>\n",
       "      <th>HasDetections</th>\n",
       "    </tr>\n",
       "  </thead>\n",
       "  <tbody>\n",
       "    <tr>\n",
       "      <th>446519</th>\n",
       "      <td>16299</td>\n",
       "      <td>371</td>\n",
       "      <td>1</td>\n",
       "    </tr>\n",
       "    <tr>\n",
       "      <th>4491791</th>\n",
       "      <td>17134</td>\n",
       "      <td>285</td>\n",
       "      <td>0</td>\n",
       "    </tr>\n",
       "    <tr>\n",
       "      <th>298843</th>\n",
       "      <td>15063</td>\n",
       "      <td>1088</td>\n",
       "      <td>1</td>\n",
       "    </tr>\n",
       "    <tr>\n",
       "      <th>6555010</th>\n",
       "      <td>14393</td>\n",
       "      <td>447</td>\n",
       "      <td>0</td>\n",
       "    </tr>\n",
       "    <tr>\n",
       "      <th>6305579</th>\n",
       "      <td>14393</td>\n",
       "      <td>2189</td>\n",
       "      <td>1</td>\n",
       "    </tr>\n",
       "    <tr>\n",
       "      <th>2207332</th>\n",
       "      <td>17134</td>\n",
       "      <td>191</td>\n",
       "      <td>0</td>\n",
       "    </tr>\n",
       "    <tr>\n",
       "      <th>1207032</th>\n",
       "      <td>14393</td>\n",
       "      <td>82</td>\n",
       "      <td>1</td>\n",
       "    </tr>\n",
       "    <tr>\n",
       "      <th>677943</th>\n",
       "      <td>16299</td>\n",
       "      <td>431</td>\n",
       "      <td>1</td>\n",
       "    </tr>\n",
       "    <tr>\n",
       "      <th>112049</th>\n",
       "      <td>16299</td>\n",
       "      <td>611</td>\n",
       "      <td>0</td>\n",
       "    </tr>\n",
       "    <tr>\n",
       "      <th>3959850</th>\n",
       "      <td>16299</td>\n",
       "      <td>371</td>\n",
       "      <td>0</td>\n",
       "    </tr>\n",
       "    <tr>\n",
       "      <th>2410807</th>\n",
       "      <td>17134</td>\n",
       "      <td>165</td>\n",
       "      <td>1</td>\n",
       "    </tr>\n",
       "    <tr>\n",
       "      <th>1134773</th>\n",
       "      <td>17134</td>\n",
       "      <td>165</td>\n",
       "      <td>1</td>\n",
       "    </tr>\n",
       "    <tr>\n",
       "      <th>2523011</th>\n",
       "      <td>17134</td>\n",
       "      <td>165</td>\n",
       "      <td>0</td>\n",
       "    </tr>\n",
       "    <tr>\n",
       "      <th>8574744</th>\n",
       "      <td>17134</td>\n",
       "      <td>228</td>\n",
       "      <td>0</td>\n",
       "    </tr>\n",
       "    <tr>\n",
       "      <th>7644782</th>\n",
       "      <td>16299</td>\n",
       "      <td>611</td>\n",
       "      <td>1</td>\n",
       "    </tr>\n",
       "  </tbody>\n",
       "</table>\n",
       "</div>"
      ],
      "text/plain": [
       "         Census_OSBuildNumber  Census_OSBuildRevision  HasDetections\n",
       "446519                  16299                     371              1\n",
       "4491791                 17134                     285              0\n",
       "298843                  15063                    1088              1\n",
       "6555010                 14393                     447              0\n",
       "6305579                 14393                    2189              1\n",
       "2207332                 17134                     191              0\n",
       "1207032                 14393                      82              1\n",
       "677943                  16299                     431              1\n",
       "112049                  16299                     611              0\n",
       "3959850                 16299                     371              0\n",
       "2410807                 17134                     165              1\n",
       "1134773                 17134                     165              1\n",
       "2523011                 17134                     165              0\n",
       "8574744                 17134                     228              0\n",
       "7644782                 16299                     611              1"
      ]
     },
     "execution_count": 9,
     "metadata": {},
     "output_type": "execute_result"
    }
   ],
   "source": [
    "df[['Census_OSBuildNumber', 'Census_OSBuildRevision', 'HasDetections']].sample(15)"
   ]
  },
  {
   "cell_type": "code",
   "execution_count": 11,
   "metadata": {
    "id": "K05s3L53cRoF"
   },
   "outputs": [],
   "source": [
    "import matplotlib.pyplot as plt\n",
    "import numpy as np"
   ]
  },
  {
   "cell_type": "code",
   "execution_count": 12,
   "metadata": {
    "colab": {
     "base_uri": "https://localhost:8080/"
    },
    "id": "wX08pIWxlRGr",
    "outputId": "3e972d41-83cb-4ac7-8fcd-56dc695f9808"
   },
   "outputs": [
    {
     "data": {
      "text/plain": [
       "{0, 1}"
      ]
     },
     "execution_count": 12,
     "metadata": {},
     "output_type": "execute_result"
    }
   ],
   "source": [
    "set(df.HasDetections)"
   ]
  },
  {
   "cell_type": "code",
   "execution_count": 12,
   "metadata": {
    "colab": {
     "base_uri": "https://localhost:8080/",
     "height": 332
    },
    "id": "fanhHBT-cybw",
    "outputId": "ac948705-70a4-40f2-87fc-6e147c73cb64"
   },
   "outputs": [
    {
     "data": {
      "text/plain": [
       "array([[<matplotlib.axes._subplots.AxesSubplot object at 0x7feb84a87210>,\n",
       "        <matplotlib.axes._subplots.AxesSubplot object at 0x7feb98c3f090>]],\n",
       "      dtype=object)"
      ]
     },
     "execution_count": 12,
     "metadata": {},
     "output_type": "execute_result"
    },
    {
     "data": {
      "image/png": "[encoded data removed]",
      "text/plain": [
       "<Figure size 432x288 with 2 Axes>"
      ]
     },
     "metadata": {
      "needs_background": "light"
     },
     "output_type": "display_data"
    }
   ],
   "source": [
    "# df['Census_OSBuildNumber'].hist()\n",
    "df[['Census_OSBuildNumber', 'Census_OSBuildRevision']].hist(bins=10)"
   ]
  },
  {
   "cell_type": "code",
   "execution_count": null,
   "metadata": {
    "id": "gKf6rLcuhwJl"
   },
   "outputs": [],
   "source": [
    "# Data for plotting\n",
    "plt.plot(df['Census_OSBuildNumber'], df['Census_OSBuildRevision'])"
   ]
  },
  {
   "cell_type": "markdown",
   "metadata": {
    "id": "2Aq74E6NcbO8"
   },
   "source": []
  },
  {
   "cell_type": "markdown",
   "metadata": {
    "id": "6VcDL3PrH-UH"
   },
   "source": [
    "## **Section 4: Effect of Number of AV Products Installed (Q4)**"
   ]
  },
  {
   "cell_type": "markdown",
   "metadata": {
    "id": "g8VNweURVXip"
   },
   "source": [
    "## **Section 5: Interesting findings (Q5)**"
   ]
  },
  {
   "cell_type": "code",
   "execution_count": 13,
   "metadata": {
    "colab": {
     "base_uri": "https://localhost:8080/"
    },
    "id": "-a1amFsF_onN",
    "outputId": "ae0fbb0a-1106-4ced-c237-87d30458dda1"
   },
   "outputs": [
    {
     "data": {
      "text/plain": [
       "count    8.921483e+06\n",
       "mean     4.997927e-01\n",
       "std      5.000000e-01\n",
       "min      0.000000e+00\n",
       "25%      0.000000e+00\n",
       "50%      0.000000e+00\n",
       "75%      1.000000e+00\n",
       "max      1.000000e+00\n",
       "Name: HasDetections, dtype: float64"
      ]
     },
     "execution_count": 13,
     "metadata": {},
     "output_type": "execute_result"
    }
   ],
   "source": [
    "df['HasDetections'].describe()"
   ]
  },
  {
   "cell_type": "code",
   "execution_count": 14,
   "metadata": {
    "id": "v4qjNtan_4ph",
    "scrolled": false
   },
   "outputs": [
    {
     "data": {
      "text/plain": [
       "Index(['MachineIdentifier', 'EngineVersion', 'AppVersion', 'AvSigVersion',\n",
       "       'RtpStateBitfield', 'AVProductStatesIdentifier', 'AVProductsInstalled',\n",
       "       'CountryIdentifier', 'LocaleEnglishNameIdentifier', 'OsBuildLab',\n",
       "       'IsProtected', 'IeVerIdentifier', 'SmartScreen',\n",
       "       'Census_MDC2FormFactor', 'Census_OEMNameIdentifier',\n",
       "       'Census_ProcessorCoreCount', 'Census_ProcessorModelIdentifier',\n",
       "       'Census_PrimaryDiskTotalCapacity', 'Census_PrimaryDiskTypeName',\n",
       "       'Census_SystemVolumeTotalCapacity', 'Census_TotalPhysicalRAM',\n",
       "       'Census_InternalPrimaryDiagonalDisplaySizeInInches',\n",
       "       'Census_InternalPrimaryDisplayResolutionVertical', 'Census_OSVersion',\n",
       "       'Census_OSBuildNumber', 'Census_OSBuildRevision', 'Census_OSEdition',\n",
       "       'Census_OSInstallTypeName', 'Census_OSWUAutoUpdateOptionsName',\n",
       "       'Census_GenuineStateName', 'Census_ActivationChannel',\n",
       "       'Census_FirmwareManufacturerIdentifier', 'Census_IsSecureBootEnabled',\n",
       "       'Census_IsTouchEnabled', 'Census_IsPenCapable',\n",
       "       'Census_IsAlwaysOnAlwaysConnectedCapable', 'Wdft_IsGamer',\n",
       "       'Wdft_RegionIdentifier', 'HasDetections'],\n",
       "      dtype='object')"
      ]
     },
     "execution_count": 14,
     "metadata": {},
     "output_type": "execute_result"
    }
   ],
   "source": [
    "df.columns"
   ]
  },
  {
   "cell_type": "markdown",
   "metadata": {
    "id": "ylT6xzFmVfT-"
   },
   "source": [
    "## **Section 6: Baseline modelling (Q6)**"
   ]
  },
  {
   "cell_type": "code",
   "execution_count": null,
   "metadata": {
    "id": "L8U1cT9wAGBn"
   },
   "outputs": [],
   "source": [
    "#Starting with preprocessing the data\n",
    "df.columns"
   ]
  },
  {
   "cell_type": "code",
   "execution_count": null,
   "metadata": {
    "id": "pXh_7TxjhXrD"
   },
   "outputs": [],
   "source": [
    "df.isnull().sum()"
   ]
  },
  {
   "cell_type": "code",
   "execution_count": null,
   "metadata": {
    "id": "c7McjCO1iOAW"
   },
   "outputs": [],
   "source": [
    "# df.SmartScreen.describe()\n",
    "df.SmartScreen.sample()"
   ]
  },
  {
   "cell_type": "code",
   "execution_count": 17,
   "metadata": {
    "id": "EW2xv-S-iqUT"
   },
   "outputs": [
    {
     "name": "stdout",
     "output_type": "stream",
     "text": [
      "(5430439, 39)\n"
     ]
    }
   ],
   "source": [
    "df_droppedna = df.dropna(how='any', inplace=False)\n",
    "print(df_droppedna.shape)"
   ]
  },
  {
   "cell_type": "code",
   "execution_count": 18,
   "metadata": {
    "id": "G5H9p81Oi3aX"
   },
   "outputs": [
    {
     "data": {
      "text/plain": [
       "MachineIdentifier                                    0\n",
       "EngineVersion                                        0\n",
       "AppVersion                                           0\n",
       "AvSigVersion                                         0\n",
       "RtpStateBitfield                                     0\n",
       "AVProductStatesIdentifier                            0\n",
       "AVProductsInstalled                                  0\n",
       "CountryIdentifier                                    0\n",
       "LocaleEnglishNameIdentifier                          0\n",
       "OsBuildLab                                           0\n",
       "IsProtected                                          0\n",
       "IeVerIdentifier                                      0\n",
       "SmartScreen                                          0\n",
       "Census_MDC2FormFactor                                0\n",
       "Census_OEMNameIdentifier                             0\n",
       "Census_ProcessorCoreCount                            0\n",
       "Census_ProcessorModelIdentifier                      0\n",
       "Census_PrimaryDiskTotalCapacity                      0\n",
       "Census_PrimaryDiskTypeName                           0\n",
       "Census_SystemVolumeTotalCapacity                     0\n",
       "Census_TotalPhysicalRAM                              0\n",
       "Census_InternalPrimaryDiagonalDisplaySizeInInches    0\n",
       "Census_InternalPrimaryDisplayResolutionVertical      0\n",
       "Census_OSVersion                                     0\n",
       "Census_OSBuildNumber                                 0\n",
       "Census_OSBuildRevision                               0\n",
       "Census_OSEdition                                     0\n",
       "Census_OSInstallTypeName                             0\n",
       "Census_OSWUAutoUpdateOptionsName                     0\n",
       "Census_GenuineStateName                              0\n",
       "Census_ActivationChannel                             0\n",
       "Census_FirmwareManufacturerIdentifier                0\n",
       "Census_IsSecureBootEnabled                           0\n",
       "Census_IsTouchEnabled                                0\n",
       "Census_IsPenCapable                                  0\n",
       "Census_IsAlwaysOnAlwaysConnectedCapable              0\n",
       "Wdft_IsGamer                                         0\n",
       "Wdft_RegionIdentifier                                0\n",
       "HasDetections                                        0\n",
       "dtype: int64"
      ]
     },
     "execution_count": 18,
     "metadata": {},
     "output_type": "execute_result"
    }
   ],
   "source": [
    "df_droppedna.isnull().sum()"
   ]
  },
  {
   "cell_type": "code",
   "execution_count": 19,
   "metadata": {
    "colab": {
     "base_uri": "https://localhost:8080/"
    },
    "id": "vp04BgaMkNue",
    "outputId": "c126ec52-3c25-4268-b94b-53ae0011f2e2"
   },
   "outputs": [
    {
     "data": {
      "text/plain": [
       "False"
      ]
     },
     "execution_count": 19,
     "metadata": {},
     "output_type": "execute_result"
    }
   ],
   "source": [
    "df_droppedna.isna().values.any()"
   ]
  },
  {
   "cell_type": "code",
   "execution_count": 20,
   "metadata": {
    "id": "RXN2nO8MArnG"
   },
   "outputs": [],
   "source": [
    "# Identifier_Columns = df.columns.apply(lambda object: 'TEDx' in string)\n",
    "columns_list = list(df_droppedna.columns)\n",
    "IdentifierColumns = [x for x in columns_list if 'Identifier' in x]"
   ]
  },
  {
   "cell_type": "code",
   "execution_count": 21,
   "metadata": {
    "colab": {
     "base_uri": "https://localhost:8080/"
    },
    "id": "V1EdzkF1EjV0",
    "outputId": "6e681a74-26ef-4236-9c4c-bf75af95ae84"
   },
   "outputs": [
    {
     "name": "stdout",
     "output_type": "stream",
     "text": [
      "['AVProductStatesIdentifier', 'CountryIdentifier', 'LocaleEnglishNameIdentifier', 'IeVerIdentifier', 'Census_OEMNameIdentifier', 'Census_ProcessorModelIdentifier', 'Census_FirmwareManufacturerIdentifier', 'Wdft_RegionIdentifier']\n"
     ]
    }
   ],
   "source": [
    "IdentifierColumns.remove('MachineIdentifier')\n",
    "len(IdentifierColumns)\n",
    "print(IdentifierColumns)"
   ]
  },
  {
   "cell_type": "code",
   "execution_count": null,
   "metadata": {
    "id": "ct2X3_RNHAcZ"
   },
   "outputs": [],
   "source": [
    "df_droppedna[IdentifierColumns]"
   ]
  },
  {
   "cell_type": "code",
   "execution_count": 22,
   "metadata": {
    "colab": {
     "base_uri": "https://localhost:8080/"
    },
    "id": "Yz85TI1pb0fi",
    "outputId": "eab9af75-fca4-4919-ca67-3ede8713375c"
   },
   "outputs": [
    {
     "name": "stdout",
     "output_type": "stream",
     "text": [
      "['IsProtected', 'Census_IsSecureBootEnabled', 'Census_IsTouchEnabled', 'Census_IsPenCapable', 'Census_IsAlwaysOnAlwaysConnectedCapable', 'Wdft_IsGamer']\n",
      "6\n"
     ]
    },
    {
     "data": {
      "text/plain": [
       "(None, None)"
      ]
     },
     "execution_count": 22,
     "metadata": {},
     "output_type": "execute_result"
    }
   ],
   "source": [
    "BooleanColumns = [x for x in columns_list if 'Is' in x]\n",
    "print(BooleanColumns), print(len(BooleanColumns))"
   ]
  },
  {
   "cell_type": "code",
   "execution_count": 17,
   "metadata": {
    "colab": {
     "base_uri": "https://localhost:8080/"
    },
    "id": "sBgqbnwdEpbR",
    "outputId": "0c592959-e060-44b8-9fe5-e3adebb0a0c3"
   },
   "outputs": [
    {
     "data": {
      "text/plain": [
       "count         5430439\n",
       "unique             65\n",
       "top       1.1.15100.1\n",
       "freq          2345842\n",
       "Name: EngineVersion, dtype: object"
      ]
     },
     "execution_count": 17,
     "metadata": {},
     "output_type": "execute_result"
    }
   ],
   "source": [
    "df_droppedna.EngineVersion.describe()"
   ]
  },
  {
   "cell_type": "code",
   "execution_count": 24,
   "metadata": {
    "id": "Jz7a72NVE56g"
   },
   "outputs": [
    {
     "name": "stdout",
     "output_type": "stream",
     "text": [
      "4\n"
     ]
    }
   ],
   "source": [
    "CategoricalColumns = [x for x in list(df_droppedna.columns) if 'Version' in x]\n",
    "print(len(CategoricalColumns))"
   ]
  },
  {
   "cell_type": "code",
   "execution_count": 25,
   "metadata": {},
   "outputs": [],
   "source": [
    "NumericalColumns = ['AVProductsInstalled','Census_ProcessorCoreCount','Census_PrimaryDiskTotalCapacity',\n",
    "                     'Census_SystemVolumeTotalCapacity','Census_TotalPhysicalRAM','Census_InternalPrimaryDiagonalDisplaySizeInInches',\n",
    "                     'Census_InternalPrimaryDisplayResolutionVertical','Census_OSBuildNumber','Census_OSBuildRevision']"
   ]
  },
  {
   "cell_type": "code",
   "execution_count": 51,
   "metadata": {
    "colab": {
     "base_uri": "https://localhost:8080/",
     "height": 419
    },
    "id": "gs5FyW-QIA51",
    "outputId": "49e8715e-2ce7-4345-ef90-6efb48cb5a02"
   },
   "outputs": [
    {
     "data": {
      "text/html": [
       "<div>\n",
       "<style scoped>\n",
       "    .dataframe tbody tr th:only-of-type {\n",
       "        vertical-align: middle;\n",
       "    }\n",
       "\n",
       "    .dataframe tbody tr th {\n",
       "        vertical-align: top;\n",
       "    }\n",
       "\n",
       "    .dataframe thead th {\n",
       "        text-align: right;\n",
       "    }\n",
       "</style>\n",
       "<table border=\"1\" class=\"dataframe\">\n",
       "  <thead>\n",
       "    <tr style=\"text-align: right;\">\n",
       "      <th></th>\n",
       "      <th>EngineVersion</th>\n",
       "      <th>AppVersion</th>\n",
       "      <th>AvSigVersion</th>\n",
       "      <th>Census_OSVersion</th>\n",
       "    </tr>\n",
       "  </thead>\n",
       "  <tbody>\n",
       "    <tr>\n",
       "      <th>2</th>\n",
       "      <td>1.1.15100.1</td>\n",
       "      <td>4.18.1807.18075</td>\n",
       "      <td>1.273.1341.0</td>\n",
       "      <td>10.0.17134.165</td>\n",
       "    </tr>\n",
       "    <tr>\n",
       "      <th>3</th>\n",
       "      <td>1.1.15100.1</td>\n",
       "      <td>4.18.1807.18075</td>\n",
       "      <td>1.273.1527.0</td>\n",
       "      <td>10.0.17134.228</td>\n",
       "    </tr>\n",
       "    <tr>\n",
       "      <th>4</th>\n",
       "      <td>1.1.15100.1</td>\n",
       "      <td>4.18.1807.18075</td>\n",
       "      <td>1.273.1379.0</td>\n",
       "      <td>10.0.17134.191</td>\n",
       "    </tr>\n",
       "    <tr>\n",
       "      <th>5</th>\n",
       "      <td>1.1.15100.1</td>\n",
       "      <td>4.18.1807.18075</td>\n",
       "      <td>1.273.1094.0</td>\n",
       "      <td>10.0.17134.165</td>\n",
       "    </tr>\n",
       "    <tr>\n",
       "      <th>7</th>\n",
       "      <td>1.1.15100.1</td>\n",
       "      <td>4.18.1807.18075</td>\n",
       "      <td>1.273.1393.0</td>\n",
       "      <td>10.0.14393.0</td>\n",
       "    </tr>\n",
       "    <tr>\n",
       "      <th>...</th>\n",
       "      <td>...</td>\n",
       "      <td>...</td>\n",
       "      <td>...</td>\n",
       "      <td>...</td>\n",
       "    </tr>\n",
       "    <tr>\n",
       "      <th>8921475</th>\n",
       "      <td>1.1.15000.2</td>\n",
       "      <td>4.18.1806.18062</td>\n",
       "      <td>1.271.787.0</td>\n",
       "      <td>10.0.16299.192</td>\n",
       "    </tr>\n",
       "    <tr>\n",
       "      <th>8921476</th>\n",
       "      <td>1.1.15200.1</td>\n",
       "      <td>4.18.1807.18075</td>\n",
       "      <td>1.275.438.0</td>\n",
       "      <td>10.0.16299.248</td>\n",
       "    </tr>\n",
       "    <tr>\n",
       "      <th>8921477</th>\n",
       "      <td>1.1.15100.1</td>\n",
       "      <td>4.18.1807.18075</td>\n",
       "      <td>1.273.1613.0</td>\n",
       "      <td>10.0.15063.1266</td>\n",
       "    </tr>\n",
       "    <tr>\n",
       "      <th>8921478</th>\n",
       "      <td>1.1.15100.1</td>\n",
       "      <td>4.18.1807.18075</td>\n",
       "      <td>1.273.1555.0</td>\n",
       "      <td>10.0.16299.431</td>\n",
       "    </tr>\n",
       "    <tr>\n",
       "      <th>8921482</th>\n",
       "      <td>1.1.15200.1</td>\n",
       "      <td>4.18.1807.18075</td>\n",
       "      <td>1.275.1209.0</td>\n",
       "      <td>10.0.17134.228</td>\n",
       "    </tr>\n",
       "  </tbody>\n",
       "</table>\n",
       "<p>5430439 rows × 4 columns</p>\n",
       "</div>"
      ],
      "text/plain": [
       "        EngineVersion       AppVersion  AvSigVersion Census_OSVersion\n",
       "2         1.1.15100.1  4.18.1807.18075  1.273.1341.0   10.0.17134.165\n",
       "3         1.1.15100.1  4.18.1807.18075  1.273.1527.0   10.0.17134.228\n",
       "4         1.1.15100.1  4.18.1807.18075  1.273.1379.0   10.0.17134.191\n",
       "5         1.1.15100.1  4.18.1807.18075  1.273.1094.0   10.0.17134.165\n",
       "7         1.1.15100.1  4.18.1807.18075  1.273.1393.0     10.0.14393.0\n",
       "...               ...              ...           ...              ...\n",
       "8921475   1.1.15000.2  4.18.1806.18062   1.271.787.0   10.0.16299.192\n",
       "8921476   1.1.15200.1  4.18.1807.18075   1.275.438.0   10.0.16299.248\n",
       "8921477   1.1.15100.1  4.18.1807.18075  1.273.1613.0  10.0.15063.1266\n",
       "8921478   1.1.15100.1  4.18.1807.18075  1.273.1555.0   10.0.16299.431\n",
       "8921482   1.1.15200.1  4.18.1807.18075  1.275.1209.0   10.0.17134.228\n",
       "\n",
       "[5430439 rows x 4 columns]"
      ]
     },
     "execution_count": 51,
     "metadata": {},
     "output_type": "execute_result"
    }
   ],
   "source": [
    "df_droppedna[CategoricalColumns]"
   ]
  },
  {
   "cell_type": "code",
   "execution_count": 19,
   "metadata": {
    "colab": {
     "base_uri": "https://localhost:8080/"
    },
    "id": "Nx2siPMbODMz",
    "outputId": "23d47a3a-5214-4436-b39d-53645af5bd53"
   },
   "outputs": [
    {
     "data": {
      "text/plain": [
       "0        8\n",
       "1        6\n",
       "3        3\n",
       "2        2\n",
       "4        2\n",
       "        ..\n",
       "12626    1\n",
       "39756    1\n",
       "7025     1\n",
       "66906    1\n",
       "10166    1\n",
       "Name: AppVersion, Length: 91, dtype: int64"
      ]
     },
     "execution_count": 19,
     "metadata": {},
     "output_type": "execute_result"
    }
   ],
   "source": [
    "app_version = df_droppedna.groupby('AppVersion')['AppVersion']\n",
    "app_counts = app_version.count().sort_values(ascending=False)\n",
    "app_counts.value_counts()"
   ]
  },
  {
   "cell_type": "code",
   "execution_count": 20,
   "metadata": {
    "colab": {
     "base_uri": "https://localhost:8080/",
     "height": 470
    },
    "id": "mv-DnziqKiHZ",
    "outputId": "afcc2131-c7ef-4c61-9787-2cc44b74f030"
   },
   "outputs": [
    {
     "data": {
      "text/html": [
       "<div>\n",
       "<style scoped>\n",
       "    .dataframe tbody tr th:only-of-type {\n",
       "        vertical-align: middle;\n",
       "    }\n",
       "\n",
       "    .dataframe tbody tr th {\n",
       "        vertical-align: top;\n",
       "    }\n",
       "\n",
       "    .dataframe thead th {\n",
       "        text-align: right;\n",
       "    }\n",
       "</style>\n",
       "<table border=\"1\" class=\"dataframe\">\n",
       "  <thead>\n",
       "    <tr style=\"text-align: right;\">\n",
       "      <th></th>\n",
       "      <th>MachineIdentifier</th>\n",
       "      <th>EngineVersion</th>\n",
       "      <th>AppVersion</th>\n",
       "      <th>AvSigVersion</th>\n",
       "      <th>RtpStateBitfield</th>\n",
       "      <th>AVProductStatesIdentifier</th>\n",
       "      <th>AVProductsInstalled</th>\n",
       "      <th>CountryIdentifier</th>\n",
       "      <th>LocaleEnglishNameIdentifier</th>\n",
       "      <th>OsBuildLab</th>\n",
       "      <th>IsProtected</th>\n",
       "      <th>IeVerIdentifier</th>\n",
       "      <th>SmartScreen</th>\n",
       "      <th>Census_MDC2FormFactor</th>\n",
       "      <th>Census_OEMNameIdentifier</th>\n",
       "      <th>Census_ProcessorCoreCount</th>\n",
       "      <th>Census_ProcessorModelIdentifier</th>\n",
       "      <th>Census_PrimaryDiskTotalCapacity</th>\n",
       "      <th>Census_PrimaryDiskTypeName</th>\n",
       "      <th>Census_SystemVolumeTotalCapacity</th>\n",
       "      <th>Census_TotalPhysicalRAM</th>\n",
       "      <th>Census_InternalPrimaryDiagonalDisplaySizeInInches</th>\n",
       "      <th>Census_InternalPrimaryDisplayResolutionVertical</th>\n",
       "      <th>Census_OSBuildNumber</th>\n",
       "      <th>Census_OSBuildRevision</th>\n",
       "      <th>Census_OSEdition</th>\n",
       "      <th>Census_OSInstallTypeName</th>\n",
       "      <th>Census_OSWUAutoUpdateOptionsName</th>\n",
       "      <th>Census_GenuineStateName</th>\n",
       "      <th>Census_ActivationChannel</th>\n",
       "      <th>Census_FirmwareManufacturerIdentifier</th>\n",
       "      <th>Census_IsSecureBootEnabled</th>\n",
       "      <th>Census_IsTouchEnabled</th>\n",
       "      <th>Census_IsPenCapable</th>\n",
       "      <th>Census_IsAlwaysOnAlwaysConnectedCapable</th>\n",
       "      <th>Wdft_IsGamer</th>\n",
       "      <th>Wdft_RegionIdentifier</th>\n",
       "      <th>HasDetections</th>\n",
       "    </tr>\n",
       "    <tr>\n",
       "      <th>Census_OSVersion</th>\n",
       "      <th></th>\n",
       "      <th></th>\n",
       "      <th></th>\n",
       "      <th></th>\n",
       "      <th></th>\n",
       "      <th></th>\n",
       "      <th></th>\n",
       "      <th></th>\n",
       "      <th></th>\n",
       "      <th></th>\n",
       "      <th></th>\n",
       "      <th></th>\n",
       "      <th></th>\n",
       "      <th></th>\n",
       "      <th></th>\n",
       "      <th></th>\n",
       "      <th></th>\n",
       "      <th></th>\n",
       "      <th></th>\n",
       "      <th></th>\n",
       "      <th></th>\n",
       "      <th></th>\n",
       "      <th></th>\n",
       "      <th></th>\n",
       "      <th></th>\n",
       "      <th></th>\n",
       "      <th></th>\n",
       "      <th></th>\n",
       "      <th></th>\n",
       "      <th></th>\n",
       "      <th></th>\n",
       "      <th></th>\n",
       "      <th></th>\n",
       "      <th></th>\n",
       "      <th></th>\n",
       "      <th></th>\n",
       "      <th></th>\n",
       "      <th></th>\n",
       "    </tr>\n",
       "  </thead>\n",
       "  <tbody>\n",
       "    <tr>\n",
       "      <th>10.0.10240.16384</th>\n",
       "      <td>24003</td>\n",
       "      <td>24003</td>\n",
       "      <td>24003</td>\n",
       "      <td>24003</td>\n",
       "      <td>24003</td>\n",
       "      <td>24003</td>\n",
       "      <td>24003</td>\n",
       "      <td>24003</td>\n",
       "      <td>24003</td>\n",
       "      <td>24003</td>\n",
       "      <td>24003</td>\n",
       "      <td>24003</td>\n",
       "      <td>24003</td>\n",
       "      <td>24003</td>\n",
       "      <td>24003</td>\n",
       "      <td>24003</td>\n",
       "      <td>24003</td>\n",
       "      <td>24003</td>\n",
       "      <td>24003</td>\n",
       "      <td>24003</td>\n",
       "      <td>24003</td>\n",
       "      <td>24003</td>\n",
       "      <td>24003</td>\n",
       "      <td>24003</td>\n",
       "      <td>24003</td>\n",
       "      <td>24003</td>\n",
       "      <td>24003</td>\n",
       "      <td>24003</td>\n",
       "      <td>24003</td>\n",
       "      <td>24003</td>\n",
       "      <td>24003</td>\n",
       "      <td>24003</td>\n",
       "      <td>24003</td>\n",
       "      <td>24003</td>\n",
       "      <td>24003</td>\n",
       "      <td>24003</td>\n",
       "      <td>24003</td>\n",
       "      <td>24003</td>\n",
       "    </tr>\n",
       "    <tr>\n",
       "      <th>10.0.10240.16397</th>\n",
       "      <td>648</td>\n",
       "      <td>648</td>\n",
       "      <td>648</td>\n",
       "      <td>648</td>\n",
       "      <td>648</td>\n",
       "      <td>648</td>\n",
       "      <td>648</td>\n",
       "      <td>648</td>\n",
       "      <td>648</td>\n",
       "      <td>648</td>\n",
       "      <td>648</td>\n",
       "      <td>648</td>\n",
       "      <td>648</td>\n",
       "      <td>648</td>\n",
       "      <td>648</td>\n",
       "      <td>648</td>\n",
       "      <td>648</td>\n",
       "      <td>648</td>\n",
       "      <td>648</td>\n",
       "      <td>648</td>\n",
       "      <td>648</td>\n",
       "      <td>648</td>\n",
       "      <td>648</td>\n",
       "      <td>648</td>\n",
       "      <td>648</td>\n",
       "      <td>648</td>\n",
       "      <td>648</td>\n",
       "      <td>648</td>\n",
       "      <td>648</td>\n",
       "      <td>648</td>\n",
       "      <td>648</td>\n",
       "      <td>648</td>\n",
       "      <td>648</td>\n",
       "      <td>648</td>\n",
       "      <td>648</td>\n",
       "      <td>648</td>\n",
       "      <td>648</td>\n",
       "      <td>648</td>\n",
       "    </tr>\n",
       "    <tr>\n",
       "      <th>10.0.10240.16405</th>\n",
       "      <td>6313</td>\n",
       "      <td>6313</td>\n",
       "      <td>6313</td>\n",
       "      <td>6313</td>\n",
       "      <td>6313</td>\n",
       "      <td>6313</td>\n",
       "      <td>6313</td>\n",
       "      <td>6313</td>\n",
       "      <td>6313</td>\n",
       "      <td>6313</td>\n",
       "      <td>6313</td>\n",
       "      <td>6313</td>\n",
       "      <td>6313</td>\n",
       "      <td>6313</td>\n",
       "      <td>6313</td>\n",
       "      <td>6313</td>\n",
       "      <td>6313</td>\n",
       "      <td>6313</td>\n",
       "      <td>6313</td>\n",
       "      <td>6313</td>\n",
       "      <td>6313</td>\n",
       "      <td>6313</td>\n",
       "      <td>6313</td>\n",
       "      <td>6313</td>\n",
       "      <td>6313</td>\n",
       "      <td>6313</td>\n",
       "      <td>6313</td>\n",
       "      <td>6313</td>\n",
       "      <td>6313</td>\n",
       "      <td>6313</td>\n",
       "      <td>6313</td>\n",
       "      <td>6313</td>\n",
       "      <td>6313</td>\n",
       "      <td>6313</td>\n",
       "      <td>6313</td>\n",
       "      <td>6313</td>\n",
       "      <td>6313</td>\n",
       "      <td>6313</td>\n",
       "    </tr>\n",
       "    <tr>\n",
       "      <th>10.0.10240.16413</th>\n",
       "      <td>874</td>\n",
       "      <td>874</td>\n",
       "      <td>874</td>\n",
       "      <td>874</td>\n",
       "      <td>874</td>\n",
       "      <td>874</td>\n",
       "      <td>874</td>\n",
       "      <td>874</td>\n",
       "      <td>874</td>\n",
       "      <td>874</td>\n",
       "      <td>874</td>\n",
       "      <td>874</td>\n",
       "      <td>874</td>\n",
       "      <td>874</td>\n",
       "      <td>874</td>\n",
       "      <td>874</td>\n",
       "      <td>874</td>\n",
       "      <td>874</td>\n",
       "      <td>874</td>\n",
       "      <td>874</td>\n",
       "      <td>874</td>\n",
       "      <td>874</td>\n",
       "      <td>874</td>\n",
       "      <td>874</td>\n",
       "      <td>874</td>\n",
       "      <td>874</td>\n",
       "      <td>874</td>\n",
       "      <td>874</td>\n",
       "      <td>874</td>\n",
       "      <td>874</td>\n",
       "      <td>874</td>\n",
       "      <td>874</td>\n",
       "      <td>874</td>\n",
       "      <td>874</td>\n",
       "      <td>874</td>\n",
       "      <td>874</td>\n",
       "      <td>874</td>\n",
       "      <td>874</td>\n",
       "    </tr>\n",
       "    <tr>\n",
       "      <th>10.0.10240.16487</th>\n",
       "      <td>3308</td>\n",
       "      <td>3308</td>\n",
       "      <td>3308</td>\n",
       "      <td>3308</td>\n",
       "      <td>3308</td>\n",
       "      <td>3308</td>\n",
       "      <td>3308</td>\n",
       "      <td>3308</td>\n",
       "      <td>3308</td>\n",
       "      <td>3308</td>\n",
       "      <td>3308</td>\n",
       "      <td>3308</td>\n",
       "      <td>3308</td>\n",
       "      <td>3308</td>\n",
       "      <td>3308</td>\n",
       "      <td>3308</td>\n",
       "      <td>3308</td>\n",
       "      <td>3308</td>\n",
       "      <td>3308</td>\n",
       "      <td>3308</td>\n",
       "      <td>3308</td>\n",
       "      <td>3308</td>\n",
       "      <td>3308</td>\n",
       "      <td>3308</td>\n",
       "      <td>3308</td>\n",
       "      <td>3308</td>\n",
       "      <td>3308</td>\n",
       "      <td>3308</td>\n",
       "      <td>3308</td>\n",
       "      <td>3308</td>\n",
       "      <td>3308</td>\n",
       "      <td>3308</td>\n",
       "      <td>3308</td>\n",
       "      <td>3308</td>\n",
       "      <td>3308</td>\n",
       "      <td>3308</td>\n",
       "      <td>3308</td>\n",
       "      <td>3308</td>\n",
       "    </tr>\n",
       "    <tr>\n",
       "      <th>...</th>\n",
       "      <td>...</td>\n",
       "      <td>...</td>\n",
       "      <td>...</td>\n",
       "      <td>...</td>\n",
       "      <td>...</td>\n",
       "      <td>...</td>\n",
       "      <td>...</td>\n",
       "      <td>...</td>\n",
       "      <td>...</td>\n",
       "      <td>...</td>\n",
       "      <td>...</td>\n",
       "      <td>...</td>\n",
       "      <td>...</td>\n",
       "      <td>...</td>\n",
       "      <td>...</td>\n",
       "      <td>...</td>\n",
       "      <td>...</td>\n",
       "      <td>...</td>\n",
       "      <td>...</td>\n",
       "      <td>...</td>\n",
       "      <td>...</td>\n",
       "      <td>...</td>\n",
       "      <td>...</td>\n",
       "      <td>...</td>\n",
       "      <td>...</td>\n",
       "      <td>...</td>\n",
       "      <td>...</td>\n",
       "      <td>...</td>\n",
       "      <td>...</td>\n",
       "      <td>...</td>\n",
       "      <td>...</td>\n",
       "      <td>...</td>\n",
       "      <td>...</td>\n",
       "      <td>...</td>\n",
       "      <td>...</td>\n",
       "      <td>...</td>\n",
       "      <td>...</td>\n",
       "      <td>...</td>\n",
       "    </tr>\n",
       "    <tr>\n",
       "      <th>10.0.17744.1000</th>\n",
       "      <td>1</td>\n",
       "      <td>1</td>\n",
       "      <td>1</td>\n",
       "      <td>1</td>\n",
       "      <td>1</td>\n",
       "      <td>1</td>\n",
       "      <td>1</td>\n",
       "      <td>1</td>\n",
       "      <td>1</td>\n",
       "      <td>1</td>\n",
       "      <td>1</td>\n",
       "      <td>1</td>\n",
       "      <td>1</td>\n",
       "      <td>1</td>\n",
       "      <td>1</td>\n",
       "      <td>1</td>\n",
       "      <td>1</td>\n",
       "      <td>1</td>\n",
       "      <td>1</td>\n",
       "      <td>1</td>\n",
       "      <td>1</td>\n",
       "      <td>1</td>\n",
       "      <td>1</td>\n",
       "      <td>1</td>\n",
       "      <td>1</td>\n",
       "      <td>1</td>\n",
       "      <td>1</td>\n",
       "      <td>1</td>\n",
       "      <td>1</td>\n",
       "      <td>1</td>\n",
       "      <td>1</td>\n",
       "      <td>1</td>\n",
       "      <td>1</td>\n",
       "      <td>1</td>\n",
       "      <td>1</td>\n",
       "      <td>1</td>\n",
       "      <td>1</td>\n",
       "      <td>1</td>\n",
       "    </tr>\n",
       "    <tr>\n",
       "      <th>6.2.9200.21703</th>\n",
       "      <td>1</td>\n",
       "      <td>1</td>\n",
       "      <td>1</td>\n",
       "      <td>1</td>\n",
       "      <td>1</td>\n",
       "      <td>1</td>\n",
       "      <td>1</td>\n",
       "      <td>1</td>\n",
       "      <td>1</td>\n",
       "      <td>1</td>\n",
       "      <td>1</td>\n",
       "      <td>1</td>\n",
       "      <td>1</td>\n",
       "      <td>1</td>\n",
       "      <td>1</td>\n",
       "      <td>1</td>\n",
       "      <td>1</td>\n",
       "      <td>1</td>\n",
       "      <td>1</td>\n",
       "      <td>1</td>\n",
       "      <td>1</td>\n",
       "      <td>1</td>\n",
       "      <td>1</td>\n",
       "      <td>1</td>\n",
       "      <td>1</td>\n",
       "      <td>1</td>\n",
       "      <td>1</td>\n",
       "      <td>1</td>\n",
       "      <td>1</td>\n",
       "      <td>1</td>\n",
       "      <td>1</td>\n",
       "      <td>1</td>\n",
       "      <td>1</td>\n",
       "      <td>1</td>\n",
       "      <td>1</td>\n",
       "      <td>1</td>\n",
       "      <td>1</td>\n",
       "      <td>1</td>\n",
       "    </tr>\n",
       "    <tr>\n",
       "      <th>10.0.14466.228</th>\n",
       "      <td>0</td>\n",
       "      <td>0</td>\n",
       "      <td>0</td>\n",
       "      <td>0</td>\n",
       "      <td>0</td>\n",
       "      <td>0</td>\n",
       "      <td>0</td>\n",
       "      <td>0</td>\n",
       "      <td>0</td>\n",
       "      <td>0</td>\n",
       "      <td>0</td>\n",
       "      <td>0</td>\n",
       "      <td>0</td>\n",
       "      <td>0</td>\n",
       "      <td>0</td>\n",
       "      <td>0</td>\n",
       "      <td>0</td>\n",
       "      <td>0</td>\n",
       "      <td>0</td>\n",
       "      <td>0</td>\n",
       "      <td>0</td>\n",
       "      <td>0</td>\n",
       "      <td>0</td>\n",
       "      <td>0</td>\n",
       "      <td>0</td>\n",
       "      <td>0</td>\n",
       "      <td>0</td>\n",
       "      <td>0</td>\n",
       "      <td>0</td>\n",
       "      <td>0</td>\n",
       "      <td>0</td>\n",
       "      <td>0</td>\n",
       "      <td>0</td>\n",
       "      <td>0</td>\n",
       "      <td>0</td>\n",
       "      <td>0</td>\n",
       "      <td>0</td>\n",
       "      <td>0</td>\n",
       "    </tr>\n",
       "    <tr>\n",
       "      <th>10.0.16299.183</th>\n",
       "      <td>0</td>\n",
       "      <td>0</td>\n",
       "      <td>0</td>\n",
       "      <td>0</td>\n",
       "      <td>0</td>\n",
       "      <td>0</td>\n",
       "      <td>0</td>\n",
       "      <td>0</td>\n",
       "      <td>0</td>\n",
       "      <td>0</td>\n",
       "      <td>0</td>\n",
       "      <td>0</td>\n",
       "      <td>0</td>\n",
       "      <td>0</td>\n",
       "      <td>0</td>\n",
       "      <td>0</td>\n",
       "      <td>0</td>\n",
       "      <td>0</td>\n",
       "      <td>0</td>\n",
       "      <td>0</td>\n",
       "      <td>0</td>\n",
       "      <td>0</td>\n",
       "      <td>0</td>\n",
       "      <td>0</td>\n",
       "      <td>0</td>\n",
       "      <td>0</td>\n",
       "      <td>0</td>\n",
       "      <td>0</td>\n",
       "      <td>0</td>\n",
       "      <td>0</td>\n",
       "      <td>0</td>\n",
       "      <td>0</td>\n",
       "      <td>0</td>\n",
       "      <td>0</td>\n",
       "      <td>0</td>\n",
       "      <td>0</td>\n",
       "      <td>0</td>\n",
       "      <td>0</td>\n",
       "    </tr>\n",
       "    <tr>\n",
       "      <th>10.0.17750.1000</th>\n",
       "      <td>0</td>\n",
       "      <td>0</td>\n",
       "      <td>0</td>\n",
       "      <td>0</td>\n",
       "      <td>0</td>\n",
       "      <td>0</td>\n",
       "      <td>0</td>\n",
       "      <td>0</td>\n",
       "      <td>0</td>\n",
       "      <td>0</td>\n",
       "      <td>0</td>\n",
       "      <td>0</td>\n",
       "      <td>0</td>\n",
       "      <td>0</td>\n",
       "      <td>0</td>\n",
       "      <td>0</td>\n",
       "      <td>0</td>\n",
       "      <td>0</td>\n",
       "      <td>0</td>\n",
       "      <td>0</td>\n",
       "      <td>0</td>\n",
       "      <td>0</td>\n",
       "      <td>0</td>\n",
       "      <td>0</td>\n",
       "      <td>0</td>\n",
       "      <td>0</td>\n",
       "      <td>0</td>\n",
       "      <td>0</td>\n",
       "      <td>0</td>\n",
       "      <td>0</td>\n",
       "      <td>0</td>\n",
       "      <td>0</td>\n",
       "      <td>0</td>\n",
       "      <td>0</td>\n",
       "      <td>0</td>\n",
       "      <td>0</td>\n",
       "      <td>0</td>\n",
       "      <td>0</td>\n",
       "    </tr>\n",
       "  </tbody>\n",
       "</table>\n",
       "<p>469 rows × 38 columns</p>\n",
       "</div>"
      ],
      "text/plain": [
       "                  MachineIdentifier  ...  HasDetections\n",
       "Census_OSVersion                     ...               \n",
       "10.0.10240.16384              24003  ...          24003\n",
       "10.0.10240.16397                648  ...            648\n",
       "10.0.10240.16405               6313  ...           6313\n",
       "10.0.10240.16413                874  ...            874\n",
       "10.0.10240.16487               3308  ...           3308\n",
       "...                             ...  ...            ...\n",
       "10.0.17744.1000                   1  ...              1\n",
       "6.2.9200.21703                    1  ...              1\n",
       "10.0.14466.228                    0  ...              0\n",
       "10.0.16299.183                    0  ...              0\n",
       "10.0.17750.1000                   0  ...              0\n",
       "\n",
       "[469 rows x 38 columns]"
      ]
     },
     "execution_count": 20,
     "metadata": {},
     "output_type": "execute_result"
    }
   ],
   "source": [
    "df_droppedna.groupby('Census_OSVersion').count()\n",
    "#What are these ones in Census_OSVersion?"
   ]
  },
  {
   "cell_type": "code",
   "execution_count": 21,
   "metadata": {
    "id": "ug9zPAITMpCL"
   },
   "outputs": [],
   "source": [
    "os_version = df_droppedna.groupby('Census_OSVersion')['Census_OSVersion']"
   ]
  },
  {
   "cell_type": "code",
   "execution_count": 22,
   "metadata": {
    "colab": {
     "base_uri": "https://localhost:8080/"
    },
    "id": "MCvwKChUNLDl",
    "outputId": "feb2b7c0-1a63-4dc3-f8f5-3d07c5083c6b"
   },
   "outputs": [
    {
     "data": {
      "text/plain": [
       "0        75\n",
       "1        48\n",
       "2        25\n",
       "3        18\n",
       "4        13\n",
       "         ..\n",
       "4913      1\n",
       "7303      1\n",
       "19759     1\n",
       "13102     1\n",
       "6777      1\n",
       "Name: Census_OSVersion, Length: 254, dtype: int64"
      ]
     },
     "execution_count": 22,
     "metadata": {},
     "output_type": "execute_result"
    }
   ],
   "source": [
    "counts = os_version.count().sort_values(ascending=False)\n",
    "counts.value_counts()\n",
    "#Can I drop these 94 ones? "
   ]
  },
  {
   "cell_type": "code",
   "execution_count": 23,
   "metadata": {
    "id": "JU63f6P0PNGB"
   },
   "outputs": [],
   "source": [
    "#Computing correlation matrix\n",
    "corr = df_droppedna.corr()"
   ]
  },
  {
   "cell_type": "code",
   "execution_count": 16,
   "metadata": {
    "id": "09qkLo_mQcOZ"
   },
   "outputs": [],
   "source": [
    "import seaborn as sns\n",
    "from matplotlib import pyplot as plt"
   ]
  },
  {
   "cell_type": "code",
   "execution_count": 15,
   "metadata": {
    "colab": {
     "base_uri": "https://localhost:8080/",
     "height": 1000
    },
    "id": "ImTWtdfQQpbM",
    "outputId": "29834e50-b60c-479e-b594-090a3551e69a"
   },
   "outputs": [
    {
     "data": {
      "text/plain": [
       "<matplotlib.axes._subplots.AxesSubplot at 0x7f9ef983c690>"
      ]
     },
     "execution_count": 15,
     "metadata": {},
     "output_type": "execute_result"
    },
    {
     "data": {
      "image/png": "[encoded data removed]",
      "text/plain": [
       "<Figure size 1440x1080 with 2 Axes>"
      ]
     },
     "metadata": {
      "needs_background": "light"
     },
     "output_type": "display_data"
    }
   ],
   "source": [
    "plt.figure(figsize=(20,15))\n",
    "sns.heatmap(corr, cmap=\"Greens\",annot=True)"
   ]
  },
  {
   "cell_type": "code",
   "execution_count": null,
   "metadata": {
    "id": "jsXEUxpkRKOX"
   },
   "outputs": [],
   "source": [
    "c1 = corr[(corr < 0.3) & (corr > -0.3)].abs().unstack().transpose().sort_values(ascending=True).drop_duplicates() #Picking values that lie between -0.5 and 0.5 from correlation matrix\n",
    "print(c1)"
   ]
  },
  {
   "cell_type": "code",
   "execution_count": null,
   "metadata": {
    "id": "LAA7KPhkTp9C"
   },
   "outputs": [],
   "source": [
    "c1[50:100]"
   ]
  },
  {
   "cell_type": "code",
   "execution_count": 28,
   "metadata": {
    "colab": {
     "base_uri": "https://localhost:8080/"
    },
    "id": "3uRUt-WHVfGz",
    "outputId": "f20797d0-be9b-485d-80da-06acea9e4cee"
   },
   "outputs": [
    {
     "name": "stdout",
     "output_type": "stream",
     "text": [
      "['AVProductStatesIdentifier', 'CountryIdentifier', 'LocaleEnglishNameIdentifier', 'IeVerIdentifier', 'Census_OEMNameIdentifier', 'Census_ProcessorModelIdentifier', 'Census_FirmwareManufacturerIdentifier', 'Wdft_RegionIdentifier']\n",
      "{'AVProductsInstalled', 'Census_ProcessorCoreCount', 'Census_SystemVolumeTotalCapacity', 'AVProductStatesIdentifier', 'CountryIdentifier', 'Census_OEMNameIdentifier', 'Census_PrimaryDiskTotalCapacity', 'Census_IsPenCapable', 'Census_InternalPrimaryDisplayResolutionVertical', 'Census_IsAlwaysOnAlwaysConnectedCapable', 'LocaleEnglishNameIdentifier', 'Census_FirmwareManufacturerIdentifier', 'Census_TotalPhysicalRAM', 'Wdft_RegionIdentifier', 'IsProtected', 'RtpStateBitfield', 'Census_OSBuildNumber', 'Wdft_IsGamer', 'Census_ProcessorModelIdentifier', 'Census_IsTouchEnabled', 'IeVerIdentifier', 'Census_OSBuildRevision', 'Census_IsSecureBootEnabled', 'Census_InternalPrimaryDiagonalDisplaySizeInInches'}\n",
      "24\n"
     ]
    }
   ],
   "source": [
    "# Initial_Features = ['Census_PrimaryDiskTotalCapacity', 'Census_SystemVolumeTotalCapacity', 'Census_InternalPrimaryDiagonalDisplaySizeInInches', 'AVProductsInstalled', 'Census_InternalPrimaryDiagonalDisplaySizeInInches',\n",
    "#                     'Census_TotalPhysicalRAM', 'RtpStateBitfield']\n",
    "Initial_Features = ['Census_SystemVolumeTotalCapacity', 'Census_InternalPrimaryDiagonalDisplaySizeInInches', 'AVProductsInstalled', 'Census_InternalPrimaryDiagonalDisplaySizeInInches',\n",
    "                    'Census_TotalPhysicalRAM', 'RtpStateBitfield']\n",
    "\n",
    "#Ignoring categorical variables because they should be encoded.\n",
    "Final_Features = set(Initial_Features + IdentifierColumns + BooleanColumns + NumericalColumns)\n",
    "print(IdentifierColumns)\n",
    "\n",
    "print(Final_Features)\n",
    "# print('HasDetections' in Final_Features)\n",
    "print(len(Final_Features))"
   ]
  },
  {
   "cell_type": "code",
   "execution_count": 29,
   "metadata": {
    "id": "HeQe5K8IjV0x"
   },
   "outputs": [],
   "source": [
    "from sklearn import preprocessing\n",
    "from sklearn.linear_model import LogisticRegression\n",
    "from sklearn.model_selection import train_test_split\n",
    "from sklearn import metrics\n",
    "\n",
    "#Running logistic regression model without any preprocessing of the data. Only thing that I did is feature selection"
   ]
  },
  {
   "cell_type": "code",
   "execution_count": 58,
   "metadata": {
    "colab": {
     "base_uri": "https://localhost:8080/"
    },
    "id": "-IedMYpaXYDb",
    "outputId": "10f8053e-d3eb-430c-fd34-3572dd05d829"
   },
   "outputs": [
    {
     "name": "stdout",
     "output_type": "stream",
     "text": [
      "Accuracy of logistic regression classifier on test set: 0.54\n"
     ]
    }
   ],
   "source": [
    "X=df_droppedna[Final_Features]\n",
    "y=df_droppedna['HasDetections']\n",
    "X_train, X_test, y_train, y_test = train_test_split(X, y, test_size=0.2, random_state = 0)\n",
    "# print(X_train.shape), print(X_test.shape), print(y_train.shape)\n",
    "logreg = LogisticRegression(solver='saga', random_state=0, max_iter=400)\n",
    "logreg.fit(X_train, y_train)\n",
    "\n",
    "y_pred = logreg.predict(X_test)\n",
    "print('Accuracy of logistic regression classifier on test set: {:.2f}'.format(logreg.score(X_test, y_test)))"
   ]
  },
  {
   "cell_type": "markdown",
   "metadata": {
    "id": "WmJ8gezsVkz4"
   },
   "source": [
    "## **Section 7: Feature Cleaning and Additional models (Q7a & 7b)**"
   ]
  },
  {
   "cell_type": "markdown",
   "metadata": {
    "id": "L3M5gd2ymYuP"
   },
   "source": [
    "# Plan for feature cleaning:\n",
    "\n",
    "\n",
    "1.   Instead of dropping null values as I did for logistic regression, I will try to compute mean, mode and accordingly replace for numerical, categorical data respectively.\n",
    "2.   Convert categorical variables(Identifiers) from string -> int by doing some preprocessing. \n",
    "3.   Using describe and groupby->counts for each categorical variable I will try to introduce as few one-hot encoding columns as possible and compare the performance.\n",
    "4.   Normalize numerical values using min-max scaling or standard scaling.\n",
    "\n",
    "\n",
    "\n"
   ]
  },
  {
   "cell_type": "code",
   "execution_count": 30,
   "metadata": {
    "id": "YzNKM3zpnnW5"
   },
   "outputs": [
    {
     "name": "stdout",
     "output_type": "stream",
     "text": [
      "['EngineVersion', 'AppVersion', 'AvSigVersion', 'Census_OSVersion']\n",
      "['AVProductStatesIdentifier', 'CountryIdentifier', 'LocaleEnglishNameIdentifier', 'IeVerIdentifier', 'Census_OEMNameIdentifier', 'Census_ProcessorModelIdentifier', 'Census_FirmwareManufacturerIdentifier', 'Wdft_RegionIdentifier']\n",
      "['IsProtected', 'Census_IsSecureBootEnabled', 'Census_IsTouchEnabled', 'Census_IsPenCapable', 'Census_IsAlwaysOnAlwaysConnectedCapable', 'Wdft_IsGamer']\n",
      "['AVProductsInstalled', 'Census_ProcessorCoreCount', 'Census_PrimaryDiskTotalCapacity', 'Census_SystemVolumeTotalCapacity', 'Census_TotalPhysicalRAM', 'Census_InternalPrimaryDiagonalDisplaySizeInInches', 'Census_InternalPrimaryDisplayResolutionVertical', 'Census_OSBuildNumber', 'Census_OSBuildRevision']\n"
     ]
    }
   ],
   "source": [
    "print(CategoricalColumns)\n",
    "print(IdentifierColumns)\n",
    "print(BooleanColumns)\n",
    "print(NumericalColumns)"
   ]
  },
  {
   "cell_type": "markdown",
   "metadata": {
    "id": "cOVLYQ_gZQvM"
   },
   "source": []
  },
  {
   "cell_type": "code",
   "execution_count": 47,
   "metadata": {
    "id": "Oc44GUW0e-4w"
   },
   "outputs": [],
   "source": [
    "# df.astype({'IeVerIdentifier': 'float64', 'Census_OEMNameIdentifier': 'float64', 'Census_ProcessorModelIdentifier': 'float64', 'Census_FirmwareManufacturerIdentifier': 'float64', 'Wdft_RegionIdentifier': 'float64'}).dtypes\n",
    "#Changing datatypes of the above columns to float64 because of overflow"
   ]
  },
  {
   "cell_type": "code",
   "execution_count": 31,
   "metadata": {
    "colab": {
     "base_uri": "https://localhost:8080/"
    },
    "id": "lHGqAp7qgG3S",
    "outputId": "6c28d1da-99f8-43e4-ee92-d769268afa9d"
   },
   "outputs": [
    {
     "data": {
      "text/plain": [
       "MachineIdentifier                                    category\n",
       "EngineVersion                                        category\n",
       "AppVersion                                           category\n",
       "AvSigVersion                                         category\n",
       "RtpStateBitfield                                      float16\n",
       "AVProductStatesIdentifier                             float64\n",
       "AVProductsInstalled                                   float16\n",
       "CountryIdentifier                                       int16\n",
       "LocaleEnglishNameIdentifier                              int8\n",
       "OsBuildLab                                           category\n",
       "IsProtected                                           float16\n",
       "IeVerIdentifier                                       float64\n",
       "SmartScreen                                          category\n",
       "Census_MDC2FormFactor                                category\n",
       "Census_OEMNameIdentifier                              float64\n",
       "Census_ProcessorCoreCount                             float16\n",
       "Census_ProcessorModelIdentifier                       float64\n",
       "Census_PrimaryDiskTotalCapacity                       float32\n",
       "Census_PrimaryDiskTypeName                           category\n",
       "Census_SystemVolumeTotalCapacity                      float32\n",
       "Census_TotalPhysicalRAM                               float32\n",
       "Census_InternalPrimaryDiagonalDisplaySizeInInches     float16\n",
       "Census_InternalPrimaryDisplayResolutionVertical       float16\n",
       "Census_OSVersion                                     category\n",
       "Census_OSBuildNumber                                    int16\n",
       "Census_OSBuildRevision                                  int32\n",
       "Census_OSEdition                                     category\n",
       "Census_OSInstallTypeName                             category\n",
       "Census_OSWUAutoUpdateOptionsName                     category\n",
       "Census_GenuineStateName                              category\n",
       "Census_ActivationChannel                             category\n",
       "Census_FirmwareManufacturerIdentifier                 float64\n",
       "Census_IsSecureBootEnabled                               int8\n",
       "Census_IsTouchEnabled                                    int8\n",
       "Census_IsPenCapable                                      int8\n",
       "Census_IsAlwaysOnAlwaysConnectedCapable               float16\n",
       "Wdft_IsGamer                                          float16\n",
       "Wdft_RegionIdentifier                                 float64\n",
       "HasDetections                                           int64\n",
       "dtype: object"
      ]
     },
     "execution_count": 31,
     "metadata": {},
     "output_type": "execute_result"
    }
   ],
   "source": [
    "df.head()\n",
    "df.dtypes"
   ]
  },
  {
   "cell_type": "code",
   "execution_count": 32,
   "metadata": {
    "colab": {
     "base_uri": "https://localhost:8080/"
    },
    "id": "f6vVI6yuaUce",
    "outputId": "a0ce635c-8b64-4d1a-bae2-eb20159d1458"
   },
   "outputs": [
    {
     "name": "stdout",
     "output_type": "stream",
     "text": [
      "count    8.885262e+06\n",
      "mean     4.784001e+04\n",
      "std      1.403237e+04\n",
      "min      3.000000e+00\n",
      "25%      4.948000e+04\n",
      "50%      5.344700e+04\n",
      "75%      5.344700e+04\n",
      "max      7.050700e+04\n",
      "Name: AVProductStatesIdentifier, dtype: float64\n",
      "count    8.862589e+06\n",
      "mean     1.265760e+02\n",
      "std      4.267778e+01\n",
      "min      1.000000e+00\n",
      "25%      1.110000e+02\n",
      "50%      1.170000e+02\n",
      "75%      1.370000e+02\n",
      "max      4.290000e+02\n",
      "Name: IeVerIdentifier, dtype: float64\n",
      "5871315    137.0\n",
      "1923070    107.0\n",
      "6877507     53.0\n",
      "8336595    117.0\n",
      "2443424    137.0\n",
      "3428924     98.0\n",
      "2973112    105.0\n",
      "412196     117.0\n",
      "4526143    117.0\n",
      "8676242    323.0\n",
      "Name: IeVerIdentifier, dtype: float64 126.5760229883164\n"
     ]
    }
   ],
   "source": [
    "print(df.AVProductStatesIdentifier.describe())\n",
    "print(df.IeVerIdentifier.describe())\n",
    "# print(df.Census_ProcessorModelIdentifier.describe())\n",
    "\n",
    "print(df.IeVerIdentifier.sample(10), df.IeVerIdentifier.mean(skipna=True))"
   ]
  },
  {
   "cell_type": "code",
   "execution_count": 35,
   "metadata": {
    "id": "TV_7hNj-UpEf"
   },
   "outputs": [],
   "source": [
    "# Filling nan values in the original dataframe df with mean.\n",
    "for item in IdentifierColumns:\n",
    "    df[item].fillna(value = df[item].mean(), inplace = True)\n",
    "    \n",
    "for item in NumericalColumns:\n",
    "    df[item].fillna(value = df[item].mean(), inplace = True)\n",
    "    \n",
    "for item in CategoricalColumns:\n",
    "    df[item].fillna(value = df[item].mode(), inplace = True)\n",
    "\n",
    "#Filling nan values in the original dataframe df with mode.\n",
    "for item in BooleanColumns:\n",
    "    df[item].fillna(value = df[item].mode(), inplace = True)"
   ]
  },
  {
   "cell_type": "code",
   "execution_count": 36,
   "metadata": {
    "colab": {
     "base_uri": "https://localhost:8080/"
    },
    "id": "Dcz7uVoIZBCE",
    "outputId": "67b0bb1c-763d-4f5f-94f9-4938c5ea4535"
   },
   "outputs": [
    {
     "data": {
      "text/plain": [
       "MachineIdentifier                                          0\n",
       "EngineVersion                                              0\n",
       "AppVersion                                                 0\n",
       "AvSigVersion                                               0\n",
       "RtpStateBitfield                                       32318\n",
       "AVProductStatesIdentifier                                  0\n",
       "AVProductsInstalled                                    36221\n",
       "CountryIdentifier                                          0\n",
       "LocaleEnglishNameIdentifier                                0\n",
       "OsBuildLab                                                21\n",
       "IsProtected                                            36044\n",
       "IeVerIdentifier                                            0\n",
       "SmartScreen                                          3177011\n",
       "Census_MDC2FormFactor                                      0\n",
       "Census_OEMNameIdentifier                                   0\n",
       "Census_ProcessorCoreCount                              41306\n",
       "Census_ProcessorModelIdentifier                            0\n",
       "Census_PrimaryDiskTotalCapacity                            0\n",
       "Census_PrimaryDiskTypeName                             12844\n",
       "Census_SystemVolumeTotalCapacity                           0\n",
       "Census_TotalPhysicalRAM                                    0\n",
       "Census_InternalPrimaryDiagonalDisplaySizeInInches      47134\n",
       "Census_InternalPrimaryDisplayResolutionVertical        46986\n",
       "Census_OSVersion                                           0\n",
       "Census_OSBuildNumber                                       0\n",
       "Census_OSBuildRevision                                     0\n",
       "Census_OSEdition                                           0\n",
       "Census_OSInstallTypeName                                   0\n",
       "Census_OSWUAutoUpdateOptionsName                           0\n",
       "Census_GenuineStateName                                    0\n",
       "Census_ActivationChannel                                   0\n",
       "Census_FirmwareManufacturerIdentifier                      0\n",
       "Census_IsSecureBootEnabled                                 0\n",
       "Census_IsTouchEnabled                                      0\n",
       "Census_IsPenCapable                                        0\n",
       "Census_IsAlwaysOnAlwaysConnectedCapable                71343\n",
       "Wdft_IsGamer                                          303451\n",
       "Wdft_RegionIdentifier                                      0\n",
       "HasDetections                                              0\n",
       "dtype: int64"
      ]
     },
     "execution_count": 36,
     "metadata": {},
     "output_type": "execute_result"
    }
   ],
   "source": [
    "df.isnull().sum()"
   ]
  },
  {
   "cell_type": "code",
   "execution_count": 72,
   "metadata": {
    "colab": {
     "base_uri": "https://localhost:8080/"
    },
    "id": "YWd4m48wzEjt",
    "outputId": "d93b8e31-4ffd-4d4d-e338-b4303fc9cfd6"
   },
   "outputs": [
    {
     "data": {
      "text/plain": [
       "count         8921483\n",
       "unique             70\n",
       "top       1.1.15200.1\n",
       "freq          3845067\n",
       "Name: EngineVersion, dtype: object"
      ]
     },
     "execution_count": 72,
     "metadata": {},
     "output_type": "execute_result"
    }
   ],
   "source": [
    "df.EngineVersion.describe()\n",
    "# df.AppVersion.describe()\n",
    "# df_droppedna.AvSigVersion.describe()\n",
    "# df.Census_OSVersion.describe()"
   ]
  },
  {
   "cell_type": "code",
   "execution_count": 26,
   "metadata": {
    "id": "5u4-PleYqlov"
   },
   "outputs": [],
   "source": [
    "unique_engine = df.EngineVersion.unique()\n",
    "unique_app = df.AppVersion.unique()\n",
    "unique_av_sig = df.AvSigVersion.unique()\n",
    "unique_census_os = df.Census_OSVersion.unique()\n",
    "\n",
    "engine_dict = dict(zip(unique_engine, range(len(unique_engine))))\n",
    "# print(engine_dict), print(len(engine_dict))\n",
    "app_dict = dict(zip(unique_app, range(len(unique_app))))\n",
    "av_sig_dict = dict(zip(unique_av_sig, range(len(unique_av_sig))))\n",
    "census_os_dict = dict(zip(unique_census_os, range(len(unique_census_os))))\n",
    "\n",
    "# print(engine_dict)\n",
    "# print(len(app_dict)), print(app_dict)\n",
    "# print(len(av_sig_dict))\n",
    "# print(len(census_os_dict))\n"
   ]
  },
  {
   "cell_type": "code",
   "execution_count": 27,
   "metadata": {
    "colab": {
     "base_uri": "https://localhost:8080/",
     "height": 173
    },
    "id": "txP4nJ8e0ymj",
    "outputId": "e5483dcc-64c1-4c9e-b466-5fc0d2802c1d"
   },
   "outputs": [
    {
     "data": {
      "text/html": [
       "<div>\n",
       "<style scoped>\n",
       "    .dataframe tbody tr th:only-of-type {\n",
       "        vertical-align: middle;\n",
       "    }\n",
       "\n",
       "    .dataframe tbody tr th {\n",
       "        vertical-align: top;\n",
       "    }\n",
       "\n",
       "    .dataframe thead th {\n",
       "        text-align: right;\n",
       "    }\n",
       "</style>\n",
       "<table border=\"1\" class=\"dataframe\">\n",
       "  <thead>\n",
       "    <tr style=\"text-align: right;\">\n",
       "      <th></th>\n",
       "      <th>EngineVersion</th>\n",
       "      <th>AppVersion</th>\n",
       "      <th>AvSigVersion</th>\n",
       "      <th>Census_OSVersion</th>\n",
       "    </tr>\n",
       "  </thead>\n",
       "  <tbody>\n",
       "    <tr>\n",
       "      <th>count</th>\n",
       "      <td>8921483</td>\n",
       "      <td>8921483</td>\n",
       "      <td>8921483</td>\n",
       "      <td>8921483</td>\n",
       "    </tr>\n",
       "    <tr>\n",
       "      <th>unique</th>\n",
       "      <td>70</td>\n",
       "      <td>110</td>\n",
       "      <td>8531</td>\n",
       "      <td>469</td>\n",
       "    </tr>\n",
       "    <tr>\n",
       "      <th>top</th>\n",
       "      <td>2</td>\n",
       "      <td>0</td>\n",
       "      <td>85</td>\n",
       "      <td>2</td>\n",
       "    </tr>\n",
       "    <tr>\n",
       "      <th>freq</th>\n",
       "      <td>3845067</td>\n",
       "      <td>5139224</td>\n",
       "      <td>102317</td>\n",
       "      <td>1413627</td>\n",
       "    </tr>\n",
       "  </tbody>\n",
       "</table>\n",
       "</div>"
      ],
      "text/plain": [
       "        EngineVersion  AppVersion  AvSigVersion  Census_OSVersion\n",
       "count         8921483     8921483       8921483           8921483\n",
       "unique             70         110          8531               469\n",
       "top                 2           0            85                 2\n",
       "freq          3845067     5139224        102317           1413627"
      ]
     },
     "execution_count": 27,
     "metadata": {},
     "output_type": "execute_result"
    }
   ],
   "source": [
    "temp=df.copy(deep = False)\n",
    "temp['EngineVersion'] = df['EngineVersion'].map(engine_dict)\n",
    "temp['AppVersion'] = df['AppVersion'].map(app_dict)\n",
    "temp['AvSigVersion'] = df['AvSigVersion'].map(av_sig_dict)\n",
    "temp['Census_OSVersion'] = df['Census_OSVersion'].map(census_os_dict)\n",
    "\n",
    "# temp['EngineVersion'] = df_droppedna['EngineVersion'].apply(lambda x : engine_dict[x])\n",
    "# temp['AppVersion'] = df_droppedna['AppVersion'].apply(lambda x : app_dict[x])\n",
    "# temp['AvSigVersion'] = df_droppedna['AvSigVersion'].apply(lambda x : av_sig_dict[x])\n",
    "# temp['Census_OSVersion'] = df_droppedna['Census_OSVersion'].apply(lambda x : census_os_dict[x])\n",
    "\n",
    "# temp['EngineVersion'].sample(50)\n",
    "temp[CategoricalColumns].describe()"
   ]
  },
  {
   "cell_type": "code",
   "execution_count": 30,
   "metadata": {
    "colab": {
     "base_uri": "https://localhost:8080/"
    },
    "id": "OZ71DD9m2rNj",
    "outputId": "dbdc202a-1a65-4e78-8cfb-477673e97361"
   },
   "outputs": [
    {
     "name": "stdout",
     "output_type": "stream",
     "text": [
      "['Census_SystemVolumeTotalCapacity', 'Census_InternalPrimaryDiagonalDisplaySizeInInches', 'AVProductsInstalled', 'Census_InternalPrimaryDiagonalDisplaySizeInInches', 'Census_TotalPhysicalRAM', 'RtpStateBitfield', 'AVProductStatesIdentifier', 'CountryIdentifier', 'LocaleEnglishNameIdentifier', 'IeVerIdentifier', 'Census_OEMNameIdentifier', 'Census_ProcessorModelIdentifier', 'Census_FirmwareManufacturerIdentifier', 'Wdft_RegionIdentifier', 'IsProtected', 'Census_IsSecureBootEnabled', 'Census_IsTouchEnabled', 'Census_IsPenCapable', 'Census_IsAlwaysOnAlwaysConnectedCapable', 'Wdft_IsGamer', 'EngineVersion', 'AppVersion', 'AvSigVersion', 'Census_OSVersion'] 24\n"
     ]
    }
   ],
   "source": [
    "Final_Features_1 = Final_Features + CategoricalColumns\n",
    "print(Final_Features_1,  len(Final_Features_1))"
   ]
  },
  {
   "cell_type": "code",
   "execution_count": 31,
   "metadata": {
    "colab": {
     "base_uri": "https://localhost:8080/",
     "height": 375
    },
    "id": "97_lZSjgRuop",
    "outputId": "67bb0183-db45-4ecd-859c-776671d69532"
   },
   "outputs": [
    {
     "ename": "ValueError",
     "evalue": "ignored",
     "output_type": "error",
     "traceback": [
      "\u001b[0;31m---------------------------------------------------------------------------\u001b[0m",
      "\u001b[0;31mValueError\u001b[0m                                Traceback (most recent call last)",
      "\u001b[0;32m<ipython-input-31-207c9fcd125f>\u001b[0m in \u001b[0;36m<module>\u001b[0;34m()\u001b[0m\n\u001b[1;32m      4\u001b[0m \u001b[0;31m# print(X_train.shape), print(X_test.shape), print(y_train.shape)\u001b[0m\u001b[0;34m\u001b[0m\u001b[0;34m\u001b[0m\u001b[0;34m\u001b[0m\u001b[0m\n\u001b[1;32m      5\u001b[0m \u001b[0mlogreg\u001b[0m \u001b[0;34m=\u001b[0m \u001b[0mLogisticRegression\u001b[0m\u001b[0;34m(\u001b[0m\u001b[0msolver\u001b[0m\u001b[0;34m=\u001b[0m\u001b[0;34m'saga'\u001b[0m\u001b[0;34m,\u001b[0m \u001b[0mrandom_state\u001b[0m\u001b[0;34m=\u001b[0m\u001b[0;36m0\u001b[0m\u001b[0;34m,\u001b[0m \u001b[0mmax_iter\u001b[0m\u001b[0;34m=\u001b[0m\u001b[0;36m400\u001b[0m\u001b[0;34m)\u001b[0m\u001b[0;34m\u001b[0m\u001b[0;34m\u001b[0m\u001b[0m\n\u001b[0;32m----> 6\u001b[0;31m \u001b[0mlogreg\u001b[0m\u001b[0;34m.\u001b[0m\u001b[0mfit\u001b[0m\u001b[0;34m(\u001b[0m\u001b[0mX_train\u001b[0m\u001b[0;34m,\u001b[0m \u001b[0my_train\u001b[0m\u001b[0;34m)\u001b[0m\u001b[0;34m\u001b[0m\u001b[0;34m\u001b[0m\u001b[0m\n\u001b[0m\u001b[1;32m      7\u001b[0m \u001b[0;34m\u001b[0m\u001b[0m\n\u001b[1;32m      8\u001b[0m \u001b[0my_pred\u001b[0m \u001b[0;34m=\u001b[0m \u001b[0mlogreg\u001b[0m\u001b[0;34m.\u001b[0m\u001b[0mpredict\u001b[0m\u001b[0;34m(\u001b[0m\u001b[0mX_test\u001b[0m\u001b[0;34m)\u001b[0m\u001b[0;34m\u001b[0m\u001b[0;34m\u001b[0m\u001b[0m\n",
      "\u001b[0;32m/usr/local/lib/python3.7/dist-packages/sklearn/linear_model/_logistic.py\u001b[0m in \u001b[0;36mfit\u001b[0;34m(self, X, y, sample_weight)\u001b[0m\n\u001b[1;32m   1525\u001b[0m \u001b[0;34m\u001b[0m\u001b[0m\n\u001b[1;32m   1526\u001b[0m         X, y = check_X_y(X, y, accept_sparse='csr', dtype=_dtype, order=\"C\",\n\u001b[0;32m-> 1527\u001b[0;31m                          accept_large_sparse=solver != 'liblinear')\n\u001b[0m\u001b[1;32m   1528\u001b[0m         \u001b[0mcheck_classification_targets\u001b[0m\u001b[0;34m(\u001b[0m\u001b[0my\u001b[0m\u001b[0;34m)\u001b[0m\u001b[0;34m\u001b[0m\u001b[0;34m\u001b[0m\u001b[0m\n\u001b[1;32m   1529\u001b[0m         \u001b[0mself\u001b[0m\u001b[0;34m.\u001b[0m\u001b[0mclasses_\u001b[0m \u001b[0;34m=\u001b[0m \u001b[0mnp\u001b[0m\u001b[0;34m.\u001b[0m\u001b[0munique\u001b[0m\u001b[0;34m(\u001b[0m\u001b[0my\u001b[0m\u001b[0;34m)\u001b[0m\u001b[0;34m\u001b[0m\u001b[0;34m\u001b[0m\u001b[0m\n",
      "\u001b[0;32m/usr/local/lib/python3.7/dist-packages/sklearn/utils/validation.py\u001b[0m in \u001b[0;36mcheck_X_y\u001b[0;34m(X, y, accept_sparse, accept_large_sparse, dtype, order, copy, force_all_finite, ensure_2d, allow_nd, multi_output, ensure_min_samples, ensure_min_features, y_numeric, warn_on_dtype, estimator)\u001b[0m\n\u001b[1;32m    753\u001b[0m                     \u001b[0mensure_min_features\u001b[0m\u001b[0;34m=\u001b[0m\u001b[0mensure_min_features\u001b[0m\u001b[0;34m,\u001b[0m\u001b[0;34m\u001b[0m\u001b[0;34m\u001b[0m\u001b[0m\n\u001b[1;32m    754\u001b[0m                     \u001b[0mwarn_on_dtype\u001b[0m\u001b[0;34m=\u001b[0m\u001b[0mwarn_on_dtype\u001b[0m\u001b[0;34m,\u001b[0m\u001b[0;34m\u001b[0m\u001b[0;34m\u001b[0m\u001b[0m\n\u001b[0;32m--> 755\u001b[0;31m                     estimator=estimator)\n\u001b[0m\u001b[1;32m    756\u001b[0m     \u001b[0;32mif\u001b[0m \u001b[0mmulti_output\u001b[0m\u001b[0;34m:\u001b[0m\u001b[0;34m\u001b[0m\u001b[0;34m\u001b[0m\u001b[0m\n\u001b[1;32m    757\u001b[0m         y = check_array(y, 'csr', force_all_finite=True, ensure_2d=False,\n",
      "\u001b[0;32m/usr/local/lib/python3.7/dist-packages/sklearn/utils/validation.py\u001b[0m in \u001b[0;36mcheck_array\u001b[0;34m(array, accept_sparse, accept_large_sparse, dtype, order, copy, force_all_finite, ensure_2d, allow_nd, ensure_min_samples, ensure_min_features, warn_on_dtype, estimator)\u001b[0m\n\u001b[1;32m    576\u001b[0m         \u001b[0;32mif\u001b[0m \u001b[0mforce_all_finite\u001b[0m\u001b[0;34m:\u001b[0m\u001b[0;34m\u001b[0m\u001b[0;34m\u001b[0m\u001b[0m\n\u001b[1;32m    577\u001b[0m             _assert_all_finite(array,\n\u001b[0;32m--> 578\u001b[0;31m                                allow_nan=force_all_finite == 'allow-nan')\n\u001b[0m\u001b[1;32m    579\u001b[0m \u001b[0;34m\u001b[0m\u001b[0m\n\u001b[1;32m    580\u001b[0m     \u001b[0;32mif\u001b[0m \u001b[0mensure_min_samples\u001b[0m \u001b[0;34m>\u001b[0m \u001b[0;36m0\u001b[0m\u001b[0;34m:\u001b[0m\u001b[0;34m\u001b[0m\u001b[0;34m\u001b[0m\u001b[0m\n",
      "\u001b[0;32m/usr/local/lib/python3.7/dist-packages/sklearn/utils/validation.py\u001b[0m in \u001b[0;36m_assert_all_finite\u001b[0;34m(X, allow_nan, msg_dtype)\u001b[0m\n\u001b[1;32m     58\u001b[0m                     \u001b[0mmsg_err\u001b[0m\u001b[0;34m.\u001b[0m\u001b[0mformat\u001b[0m\u001b[0;34m\u001b[0m\u001b[0;34m\u001b[0m\u001b[0m\n\u001b[1;32m     59\u001b[0m                     (type_err,\n\u001b[0;32m---> 60\u001b[0;31m                      msg_dtype if msg_dtype is not None else X.dtype)\n\u001b[0m\u001b[1;32m     61\u001b[0m             )\n\u001b[1;32m     62\u001b[0m     \u001b[0;31m# for object dtype data, we only check for NaNs (GH-13254)\u001b[0m\u001b[0;34m\u001b[0m\u001b[0;34m\u001b[0m\u001b[0;34m\u001b[0m\u001b[0m\n",
      "\u001b[0;31mValueError\u001b[0m: Input contains NaN, infinity or a value too large for dtype('float64')."
     ]
    }
   ],
   "source": [
    "X=temp[Final_Features_1]\n",
    "y=temp['HasDetections']\n",
    "X_train, X_test, y_train, y_test = train_test_split(X, y, test_size=0.2, random_state = 0)\n",
    "# print(X_train.shape), print(X_test.shape), print(y_train.shape)\n",
    "logreg = LogisticRegression(solver='saga', random_state=0, max_iter=400)\n",
    "logreg.fit(X_train, y_train)\n",
    "\n",
    "y_pred = logreg.predict(X_test)\n",
    "print('Accuracy of logistic regression classifier on test set: {:.2f}'.format(logreg.score(X_test, y_test)))"
   ]
  },
  {
   "cell_type": "markdown",
   "metadata": {
    "id": "5RzjvrYtVs-V"
   },
   "source": [
    "## **Section 8: Screenshots (Q8)** "
   ]
  },
  {
   "cell_type": "markdown",
   "metadata": {
    "id": "wVkK-WfdV73b"
   },
   "source": [
    "Public Score: \n",
    "\n",
    "Private Score:\n",
    "\n",
    "Kaggle profile link:\n",
    "\n",
    "Screenshot(s):"
   ]
  },
  {
   "cell_type": "code",
   "execution_count": null,
   "metadata": {
    "id": "mvH32ceO9U4R"
   },
   "outputs": [],
   "source": []
  }
 ],
 "metadata": {
  "colab": {
   "collapsed_sections": [
    "Alr9A33BXHvP",
    "lwCqDB9DUw7t",
    "6VcDL3PrH-UH",
    "5RzjvrYtVs-V"
   ],
   "name": "Cse519_hw2_MyDrive.ipynb",
   "provenance": []
  },
  "kernelspec": {
   "display_name": "Python 3 (ipykernel)",
   "language": "python",
   "name": "python3"
  },
  "language_info": {
   "codemirror_mode": {
    "name": "ipython",
    "version": 3
   },
   "file_extension": ".py",
   "mimetype": "text/x-python",
   "name": "python",
   "nbconvert_exporter": "python",
   "pygments_lexer": "ipython3",
   "version": "3.8.11"
  }
 },
 "nbformat": 4,
 "nbformat_minor": 1
}
